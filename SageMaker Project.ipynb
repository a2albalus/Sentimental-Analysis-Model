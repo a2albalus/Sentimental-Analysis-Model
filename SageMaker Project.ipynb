{
 "cells": [
  {
   "cell_type": "markdown",
   "metadata": {},
   "source": [
    "# Creating a Sentiment Analysis Web App\n",
    "## Using PyTorch and SageMaker\n",
    "\n",
    "_Deep Learning Nanodegree Program | Deployment_\n",
    "\n",
    "---\n",
    "\n",
    "Now that we have a basic understanding of how SageMaker works we will try to use it to construct a complete project from end to end. Our goal will be to have a simple web page which a user can use to enter a movie review. The web page will then send the review off to our deployed model which will predict the sentiment of the entered review.\n",
    "\n",
    "## Instructions\n",
    "\n",
    "Some template code has already been provided for you, and you will need to implement additional functionality to successfully complete this notebook. You will not need to modify the included code beyond what is requested. Sections that begin with '**TODO**' in the header indicate that you need to complete or implement some portion within them. Instructions will be provided for each section and the specifics of the implementation are marked in the code block with a `# TODO: ...` comment. Please be sure to read the instructions carefully!\n",
    "\n",
    "In addition to implementing code, there will be questions for you to answer which relate to the task and your implementation. Each section where you will answer a question is preceded by a '**Question:**' header. Carefully read each question and provide your answer below the '**Answer:**' header by editing the Markdown cell.\n",
    "\n",
    "> **Note**: Code and Markdown cells can be executed using the **Shift+Enter** keyboard shortcut. In addition, a cell can be edited by typically clicking it (double-click for Markdown cells) or by pressing **Enter** while it is highlighted.\n",
    "\n",
    "## General Outline\n",
    "\n",
    "Recall the general outline for SageMaker projects using a notebook instance.\n",
    "\n",
    "1. Download or otherwise retrieve the data.\n",
    "2. Process / Prepare the data.\n",
    "3. Upload the processed data to S3.\n",
    "4. Train a chosen model.\n",
    "5. Test the trained model (typically using a batch transform job).\n",
    "6. Deploy the trained model.\n",
    "7. Use the deployed model.\n",
    "\n",
    "For this project, you will be following the steps in the general outline with some modifications. \n",
    "\n",
    "First, you will not be testing the model in its own step. You will still be testing the model, however, you will do it by deploying your model and then using the deployed model by sending the test data to it. One of the reasons for doing this is so that you can make sure that your deployed model is working correctly before moving forward.\n",
    "\n",
    "In addition, you will deploy and use your trained model a second time. In the second iteration you will customize the way that your trained model is deployed by including some of your own code. In addition, your newly deployed model will be used in the sentiment analysis web app."
   ]
  },
  {
   "cell_type": "markdown",
   "metadata": {},
   "source": [
    "## Step 1: Downloading the data\n",
    "\n",
    "As in the XGBoost in SageMaker notebook, we will be using the [IMDb dataset](http://ai.stanford.edu/~amaas/data/sentiment/)\n",
    "\n",
    "> Maas, Andrew L., et al. [Learning Word Vectors for Sentiment Analysis](http://ai.stanford.edu/~amaas/data/sentiment/). In _Proceedings of the 49th Annual Meeting of the Association for Computational Linguistics: Human Language Technologies_. Association for Computational Linguistics, 2011."
   ]
  },
  {
   "cell_type": "code",
   "execution_count": 2,
   "metadata": {},
   "outputs": [
    {
     "name": "stdout",
     "output_type": "stream",
     "text": [
      "mkdir: cannot create directory ‘../data’: File exists\n",
      "--2020-02-25 20:54:14--  http://ai.stanford.edu/~amaas/data/sentiment/aclImdb_v1.tar.gz\n",
      "Resolving ai.stanford.edu (ai.stanford.edu)... 171.64.68.10\n",
      "Connecting to ai.stanford.edu (ai.stanford.edu)|171.64.68.10|:80... connected.\n",
      "HTTP request sent, awaiting response... 200 OK\n",
      "Length: 84125825 (80M) [application/x-gzip]\n",
      "Saving to: ‘../data/aclImdb_v1.tar.gz’\n",
      "\n",
      "../data/aclImdb_v1. 100%[===================>]  80.23M  24.0MB/s    in 4.6s    \n",
      "\n",
      "2020-02-25 20:54:19 (17.3 MB/s) - ‘../data/aclImdb_v1.tar.gz’ saved [84125825/84125825]\n",
      "\n"
     ]
    }
   ],
   "source": [
    "%mkdir ../data\n",
    "!wget -O ../data/aclImdb_v1.tar.gz http://ai.stanford.edu/~amaas/data/sentiment/aclImdb_v1.tar.gz\n",
    "!tar -zxf ../data/aclImdb_v1.tar.gz -C ../data"
   ]
  },
  {
   "cell_type": "markdown",
   "metadata": {},
   "source": [
    "## Step 2: Preparing and Processing the data\n",
    "\n",
    "Also, as in the XGBoost notebook, we will be doing some initial data processing. The first few steps are the same as in the XGBoost example. To begin with, we will read in each of the reviews and combine them into a single input structure. Then, we will split the dataset into a training set and a testing set."
   ]
  },
  {
   "cell_type": "code",
   "execution_count": 3,
   "metadata": {},
   "outputs": [],
   "source": [
    "import os\n",
    "import glob\n",
    "\n",
    "def read_imdb_data(data_dir='../data/aclImdb'):\n",
    "    data = {}\n",
    "    labels = {}\n",
    "    \n",
    "    for data_type in ['train', 'test']:\n",
    "        data[data_type] = {}\n",
    "        labels[data_type] = {}\n",
    "        \n",
    "        for sentiment in ['pos', 'neg']:\n",
    "            data[data_type][sentiment] = []\n",
    "            labels[data_type][sentiment] = []\n",
    "            \n",
    "            path = os.path.join(data_dir, data_type, sentiment, '*.txt')\n",
    "            files = glob.glob(path)\n",
    "            \n",
    "            for f in files:\n",
    "                with open(f) as review:\n",
    "                    data[data_type][sentiment].append(review.read())\n",
    "                    # Here we represent a positive review by '1' and a negative review by '0'\n",
    "                    labels[data_type][sentiment].append(1 if sentiment == 'pos' else 0)\n",
    "                    \n",
    "            assert len(data[data_type][sentiment]) == len(labels[data_type][sentiment]), \\\n",
    "                    \"{}/{} data size does not match labels size\".format(data_type, sentiment)\n",
    "                \n",
    "    return data, labels"
   ]
  },
  {
   "cell_type": "code",
   "execution_count": 4,
   "metadata": {},
   "outputs": [
    {
     "name": "stdout",
     "output_type": "stream",
     "text": [
      "IMDB reviews: train = 12500 pos / 12500 neg, test = 12500 pos / 12500 neg\n"
     ]
    }
   ],
   "source": [
    "data, labels = read_imdb_data()\n",
    "print(\"IMDB reviews: train = {} pos / {} neg, test = {} pos / {} neg\".format(\n",
    "            len(data['train']['pos']), len(data['train']['neg']),\n",
    "            len(data['test']['pos']), len(data['test']['neg'])))"
   ]
  },
  {
   "cell_type": "markdown",
   "metadata": {},
   "source": [
    "Now that we've read the raw training and testing data from the downloaded dataset, we will combine the positive and negative reviews and shuffle the resulting records."
   ]
  },
  {
   "cell_type": "code",
   "execution_count": 5,
   "metadata": {},
   "outputs": [],
   "source": [
    "from sklearn.utils import shuffle\n",
    "\n",
    "def prepare_imdb_data(data, labels):\n",
    "    \"\"\"Prepare training and test sets from IMDb movie reviews.\"\"\"\n",
    "    \n",
    "    #Combine positive and negative reviews and labels\n",
    "    data_train = data['train']['pos'] + data['train']['neg']\n",
    "    data_test = data['test']['pos'] + data['test']['neg']\n",
    "    labels_train = labels['train']['pos'] + labels['train']['neg']\n",
    "    labels_test = labels['test']['pos'] + labels['test']['neg']\n",
    "    \n",
    "    #Shuffle reviews and corresponding labels within training and test sets\n",
    "    data_train, labels_train = shuffle(data_train, labels_train)\n",
    "    data_test, labels_test = shuffle(data_test, labels_test)\n",
    "    \n",
    "    # Return a unified training data, test data, training labels, test labets\n",
    "    return data_train, data_test, labels_train, labels_test"
   ]
  },
  {
   "cell_type": "code",
   "execution_count": 6,
   "metadata": {},
   "outputs": [
    {
     "name": "stdout",
     "output_type": "stream",
     "text": [
      "IMDb reviews (combined): train = 25000, test = 25000\n"
     ]
    }
   ],
   "source": [
    "train_X, test_X, train_y, test_y = prepare_imdb_data(data, labels)\n",
    "print(\"IMDb reviews (combined): train = {}, test = {}\".format(len(train_X), len(test_X)))"
   ]
  },
  {
   "cell_type": "markdown",
   "metadata": {},
   "source": [
    "Now that we have our training and testing sets unified and prepared, we should do a quick check and see an example of the data our model will be trained on. This is generally a good idea as it allows you to see how each of the further processing steps affects the reviews and it also ensures that the data has been loaded correctly."
   ]
  },
  {
   "cell_type": "code",
   "execution_count": 7,
   "metadata": {},
   "outputs": [
    {
     "name": "stdout",
     "output_type": "stream",
     "text": [
      "The obvious parallels between Walt Disney's charming fantasy Bedknobs and Broomsticks and C.S. Lewis Chronicles of Narnia are pretty apparent. There are more coincidences here than comparing Bedknobs and Broomsticks than with Mary Poppins even though a lot of the same creative talent went into the two Disney films.<br /><br />Like The Chronicles of Narnia it involves some English children leaving London during the blitz and coming to live in the country. And those kids have to deal with a world of magic. But unlike C.S. Lewis the Rawlins kids have the magic invade their world and help defeat the people making a mess of it in the here and now. No retreating to a fantasy kingdom like the Pevensie kids.<br /><br />No heavy duty philosophy here from Walt Disney except maybe it's not a good thing to mess with witches even apprentice ones like Angela Lansbury who learn their magic from a charlatan like David Tomlinson. Ms. Lansbury didn't get to be one of the most bankable of performers for nothing. She carries her own brand of magic that even the special effects boys at Disney couldn't top. And they won an Oscar for the Magic Kingdom in that department for this film.<br /><br />Two performers made their farewell to films in Bedknobs and Broomsticks. Tessie O'Shea played her last role in this film, she graced many a film in the United Kingdom as one of their best loved music hall performers. And that grand character actor Reginald Owen as the retired general who leads the Old Home Guard in war and in song bids adieu to film audiences around the world.<br /><br />The team of Robert B. Sherman and Richard M. Sherman who wrote the score for Mary Poppins wrote a good and serviceable one here. The Age Of Not Believing was nominated for an Oscar, but lost to the Theme from Shaft. Personally though I do like David Tomlinson's tribute to that most colorful of London streets, Portabello Road.<br /><br />Bedknobs and Broomsticks is a fine fantasy film that still holds up well after almost 40 years. Imagine what it would be like with computer generated graphics.\n",
      "1\n"
     ]
    }
   ],
   "source": [
    "print(train_X[1001])\n",
    "print(train_y[1001])"
   ]
  },
  {
   "cell_type": "markdown",
   "metadata": {},
   "source": [
    "The first step in processing the reviews is to make sure that any html tags that appear should be removed. In addition we wish to tokenize our input, that way words such as *entertained* and *entertaining* are considered the same with regard to sentiment analysis."
   ]
  },
  {
   "cell_type": "code",
   "execution_count": 8,
   "metadata": {},
   "outputs": [],
   "source": [
    "import nltk\n",
    "from nltk.corpus import stopwords\n",
    "from nltk.stem.porter import *\n",
    "\n",
    "import re\n",
    "from bs4 import BeautifulSoup\n",
    "\n",
    "def review_to_words(review):\n",
    "    nltk.download(\"stopwords\", quiet=True)\n",
    "    stemmer = PorterStemmer()\n",
    "    \n",
    "    text = BeautifulSoup(review, \"html.parser\").get_text() # Remove HTML tags\n",
    "    text = re.sub(r\"[^a-zA-Z0-9]\", \" \", text.lower()) # Convert to lower case\n",
    "    words = text.split() # Split string into words\n",
    "    words = [w for w in words if w not in stopwords.words(\"english\")] # Remove stopwords\n",
    "    words = [PorterStemmer().stem(w) for w in words] # stem\n",
    "    \n",
    "    return words"
   ]
  },
  {
   "cell_type": "markdown",
   "metadata": {},
   "source": [
    "The `review_to_words` method defined above uses `BeautifulSoup` to remove any html tags that appear and uses the `nltk` package to tokenize the reviews. As a check to ensure we know how everything is working, try applying `review_to_words` to one of the reviews in the training set."
   ]
  },
  {
   "cell_type": "code",
   "execution_count": 9,
   "metadata": {},
   "outputs": [
    {
     "data": {
      "text/plain": [
       "['beat',\n",
       " 'bad',\n",
       " 'guy',\n",
       " 'tag',\n",
       " 'line',\n",
       " 'movi',\n",
       " 'expos',\n",
       " 'much',\n",
       " 'truth',\n",
       " 'home',\n",
       " 'alon',\n",
       " 'one',\n",
       " 'two',\n",
       " 'film',\n",
       " 'classic',\n",
       " 'home',\n",
       " 'alon',\n",
       " 'three',\n",
       " 'four',\n",
       " 'good',\n",
       " 'film',\n",
       " 'three',\n",
       " 'like',\n",
       " 'sharkboy',\n",
       " 'lavagirl',\n",
       " 'hard',\n",
       " 'tri',\n",
       " 'funni',\n",
       " 'culkin',\n",
       " 'replac',\n",
       " 'alex',\n",
       " 'linz',\n",
       " 'someth',\n",
       " 'els',\n",
       " 'bland',\n",
       " 'actor',\n",
       " 'bland',\n",
       " 'perform',\n",
       " 'entir',\n",
       " 'fault',\n",
       " 'write',\n",
       " 'call',\n",
       " 'bland',\n",
       " 'vocabulari',\n",
       " 'bland',\n",
       " 'express',\n",
       " 'prank',\n",
       " 'copi',\n",
       " 'first',\n",
       " 'two',\n",
       " 'differ',\n",
       " 'crook',\n",
       " 'blind',\n",
       " 'think',\n",
       " 'chicken',\n",
       " 'pox',\n",
       " 'real',\n",
       " 'good',\n",
       " 'choic',\n",
       " 'preschool',\n",
       " 'teacher',\n",
       " 'show',\n",
       " 'film',\n",
       " 'raini',\n",
       " 'day',\n",
       " 'make',\n",
       " 'thing',\n",
       " 'worst',\n",
       " 'total',\n",
       " 'differ',\n",
       " 'cast',\n",
       " 'go',\n",
       " 'see',\n",
       " 'believ',\n",
       " 'regret']"
      ]
     },
     "execution_count": 9,
     "metadata": {},
     "output_type": "execute_result"
    }
   ],
   "source": [
    "# TODO: Apply review_to_words to a review (train_X[100] or any other review)\n",
    "review_to_words(train_X[11])"
   ]
  },
  {
   "cell_type": "markdown",
   "metadata": {},
   "source": [
    "**Question:** Above we mentioned that `review_to_words` method removes html formatting and allows us to tokenize the words found in a review, for example, converting *entertained* and *entertaining* into *entertain* so that they are treated as though they are the same word. What else, if anything, does this method do to the input?"
   ]
  },
  {
   "cell_type": "markdown",
   "metadata": {},
   "source": [
    "**Answer:** In addition to the above, it converts all letters to lower case and removes stop words. "
   ]
  },
  {
   "cell_type": "markdown",
   "metadata": {},
   "source": [
    "The method below applies the `review_to_words` method to each of the reviews in the training and testing datasets. In addition it caches the results. This is because performing this processing step can take a long time. This way if you are unable to complete the notebook in the current session, you can come back without needing to process the data a second time."
   ]
  },
  {
   "cell_type": "code",
   "execution_count": 10,
   "metadata": {},
   "outputs": [],
   "source": [
    "import pickle\n",
    "\n",
    "cache_dir = os.path.join(\"../cache\", \"sentiment_analysis\")  # where to store cache files\n",
    "os.makedirs(cache_dir, exist_ok=True)  # ensure cache directory exists\n",
    "\n",
    "def preprocess_data(data_train, data_test, labels_train, labels_test,\n",
    "                    cache_dir=cache_dir, cache_file=\"preprocessed_data.pkl\"):\n",
    "    \"\"\"Convert each review to words; read from cache if available.\"\"\"\n",
    "\n",
    "    # If cache_file is not None, try to read from it first\n",
    "    cache_data = None\n",
    "    if cache_file is not None:\n",
    "        try:\n",
    "            with open(os.path.join(cache_dir, cache_file), \"rb\") as f:\n",
    "                cache_data = pickle.load(f)\n",
    "            print(\"Read preprocessed data from cache file:\", cache_file)\n",
    "        except:\n",
    "            pass  # unable to read from cache, but that's okay\n",
    "    \n",
    "    # If cache is missing, then do the heavy lifting\n",
    "    if cache_data is None:\n",
    "        # Preprocess training and test data to obtain words for each review\n",
    "        #words_train = list(map(review_to_words, data_train))\n",
    "        #words_test = list(map(review_to_words, data_test))\n",
    "        words_train = [review_to_words(review) for review in data_train]\n",
    "        words_test = [review_to_words(review) for review in data_test]\n",
    "        \n",
    "        # Write to cache file for future runs\n",
    "        if cache_file is not None:\n",
    "            cache_data = dict(words_train=words_train, words_test=words_test,\n",
    "                              labels_train=labels_train, labels_test=labels_test)\n",
    "            with open(os.path.join(cache_dir, cache_file), \"wb\") as f:\n",
    "                pickle.dump(cache_data, f)\n",
    "            print(\"Wrote preprocessed data to cache file:\", cache_file)\n",
    "    else:\n",
    "        # Unpack data loaded from cache file\n",
    "        words_train, words_test, labels_train, labels_test = (cache_data['words_train'],\n",
    "                cache_data['words_test'], cache_data['labels_train'], cache_data['labels_test'])\n",
    "    \n",
    "    return words_train, words_test, labels_train, labels_test"
   ]
  },
  {
   "cell_type": "code",
   "execution_count": 11,
   "metadata": {},
   "outputs": [
    {
     "name": "stdout",
     "output_type": "stream",
     "text": [
      "Read preprocessed data from cache file: preprocessed_data.pkl\n"
     ]
    }
   ],
   "source": [
    "# Preprocess data\n",
    "train_X, test_X, train_y, test_y = preprocess_data(train_X, test_X, train_y, test_y)"
   ]
  },
  {
   "cell_type": "markdown",
   "metadata": {},
   "source": [
    "## Transform the data\n",
    "\n",
    "In the XGBoost notebook we transformed the data from its word representation to a bag-of-words feature representation. For the model we are going to construct in this notebook we will construct a feature representation which is very similar. To start, we will represent each word as an integer. Of course, some of the words that appear in the reviews occur very infrequently and so likely don't contain much information for the purposes of sentiment analysis. The way we will deal with this problem is that we will fix the size of our working vocabulary and we will only include the words that appear most frequently. We will then combine all of the infrequent words into a single category and, in our case, we will label it as `1`.\n",
    "\n",
    "Since we will be using a recurrent neural network, it will be convenient if the length of each review is the same. To do this, we will fix a size for our reviews and then pad short reviews with the category 'no word' (which we will label `0`) and truncate long reviews."
   ]
  },
  {
   "cell_type": "markdown",
   "metadata": {},
   "source": [
    "### (TODO) Create a word dictionary\n",
    "\n",
    "To begin with, we need to construct a way to map words that appear in the reviews to integers. Here we fix the size of our vocabulary (including the 'no word' and 'infrequent' categories) to be `5000` but you may wish to change this to see how it affects the model.\n",
    "\n",
    "> **TODO:** Complete the implementation for the `build_dict()` method below. Note that even though the vocab_size is set to `5000`, we only want to construct a mapping for the most frequently appearing `4998` words. This is because we want to reserve the special labels `0` for 'no word' and `1` for 'infrequent word'."
   ]
  },
  {
   "cell_type": "code",
   "execution_count": 12,
   "metadata": {},
   "outputs": [],
   "source": [
    "import numpy as np\n",
    "\n",
    "def build_dict(data, vocab_size = 5000):\n",
    "    \"\"\"Construct and return a dictionary mapping each of the most frequently appearing words to a unique integer.\"\"\"\n",
    "    \n",
    "    # TODO: Determine how often each word appears in `data`. Note that `data` is a list of sentences and that a\n",
    "    #       sentence is a list of words.\n",
    "    \n",
    "    word_count = {} # A dict storing the words that appear in the reviews along with how often they occur\n",
    "    \n",
    "    for review in data:\n",
    "        for word in review:\n",
    "            if word in word_count:\n",
    "                word_count[word] += 1\n",
    "            else:\n",
    "                word_count[word] = 1\n",
    "    \n",
    "    # TODO: Sort the words found in `data` so that sorted_words[0] is the most frequently appearing word and\n",
    "    #       sorted_words[-1] is the least frequently appearing word.\n",
    "    \n",
    "    sorted_wordlist =sorted(word_count.items(), key=lambda x: x[1], reverse=True)\n",
    "    sorted_words = [k for k,num in sorted_wordlist]\n",
    "    sorted_wordlist = None\n",
    "    \n",
    "    word_dict = {} # This is what we are building, a dictionary that translates words into integers\n",
    "    for idx, word in enumerate(sorted_words[:vocab_size - 2]): # The -2 is so that we save room for the 'no word'\n",
    "        word_dict[word] = idx + 2                              # 'infrequent' labels\n",
    "        \n",
    "    return word_dict"
   ]
  },
  {
   "cell_type": "code",
   "execution_count": 13,
   "metadata": {},
   "outputs": [],
   "source": [
    "word_dict = build_dict(train_X)"
   ]
  },
  {
   "cell_type": "markdown",
   "metadata": {},
   "source": [
    "**Question:** What are the five most frequently appearing (tokenized) words in the training set? Does it makes sense that these words appear frequently in the training set?"
   ]
  },
  {
   "cell_type": "markdown",
   "metadata": {},
   "source": [
    "**Answer:** The five most frequent words are: 'movi', 'film', 'one', 'like', and 'time'. This makes sense as most movie reviews contain statements with such words."
   ]
  },
  {
   "cell_type": "code",
   "execution_count": 14,
   "metadata": {},
   "outputs": [
    {
     "name": "stdout",
     "output_type": "stream",
     "text": [
      "dict_keys(['movi', 'film', 'one', 'like', 'time', 'good', 'make', 'charact', 'get', 'see', 'watch', 'stori', 'even', 'would', 'realli', 'well', 'scene', 'look', 'show', 'much', 'end', 'peopl', 'bad', 'go', 'great', 'also', 'first', 'love', 'think', 'way', 'act', 'play', 'made', 'thing', 'could', 'know', 'say', 'seem', 'work', 'plot', 'two', 'actor', 'year', 'come', 'mani', 'seen', 'take', 'life', 'want', 'never', 'littl', 'best', 'tri', 'man', 'ever', 'give', 'better', 'still', 'perform', 'find', 'feel', 'part', 'back', 'use', 'someth', 'director', 'actual', 'interest', 'lot', 'real', 'old', 'cast', 'though', 'live', 'star', 'enjoy', 'guy', 'anoth', 'new', 'role', 'noth', '10', 'funni', 'music', 'point', 'start', 'set', 'girl', 'origin', 'day', 'world', 'everi', 'believ', 'turn', 'quit', 'direct', 'us', 'thought', 'fact', 'minut', 'horror', 'kill', 'action', 'comedi', 'pretti', 'young', 'wonder', 'happen', 'around', 'got', 'effect', 'right', 'long', 'howev', 'big', 'line', 'famili', 'enough', 'seri', 'may', 'need', 'fan', 'bit', 'script', 'beauti', 'person', 'becom', 'without', 'must', 'alway', 'friend', 'tell', 'reason', 'saw', 'last', 'final', 'kid', 'almost', 'put', 'least', 'sure', 'done', 'whole', 'place', 'complet', 'kind', 'expect', 'differ', 'shot', 'far', 'mean', 'anyth', 'book', 'laugh', 'might', 'name', 'sinc', 'begin', '2', 'probabl', 'woman', 'help', 'entertain', 'let', 'screen', 'call', 'tv', 'moment', 'away', 'read', 'yet', 'rather', 'worst', 'run', 'fun', 'lead', 'hard', 'audienc', 'idea', 'anyon', 'episod', 'american', 'found', 'appear', 'bore', 'especi', 'although', 'hope', 'keep', 'cours', 'anim', 'job', 'goe', 'move', 'sens', 'version', 'dvd', 'war', 'money', 'someon', 'mind', 'mayb', 'problem', 'true', 'hous', 'everyth', 'nice', 'second', 'rate', 'three', 'night', 'face', 'follow', 'recommend', 'main', 'product', 'worth', 'leav', 'human', 'special', 'excel', 'togeth', 'wast', 'everyon', 'sound', 'john', 'hand', '1', 'father', 'later', 'eye', 'said', 'view', 'instead', 'review', 'boy', 'high', 'hour', 'miss', 'classic', 'talk', 'wife', 'understand', 'left', 'care', 'black', 'death', 'open', 'murder', 'write', 'half', 'head', 'rememb', 'chang', 'viewer', 'fight', 'gener', 'surpris', 'short', 'includ', 'die', 'fall', 'less', 'els', 'entir', 'piec', 'involv', 'pictur', 'simpli', 'top', 'power', 'home', 'total', 'usual', 'budget', 'attempt', 'suppos', 'releas', 'hollywood', 'terribl', 'song', 'men', 'possibl', 'featur', 'portray', 'disappoint', 'poor', '3', 'coupl', 'stupid', 'camera', 'dead', 'wrong', 'low', 'produc', 'either', 'video', 'aw', 'definit', 'except', 'rest', 'given', 'absolut', 'women', 'lack', 'word', 'writer', 'titl', 'talent', 'decid', 'full', 'perfect', 'along', 'style', 'close', 'truli', 'school', 'emot', 'save', 'age', 'sex', 'next', 'bring', 'mr', 'case', 'killer', 'heart', 'comment', 'sort', 'creat', 'perhap', 'came', 'brother', 'sever', 'joke', 'art', 'dialogu', 'game', 'small', 'base', 'flick', 'written', 'sequenc', 'meet', 'earli', 'often', 'other', 'mother', 'develop', 'humor', 'actress', 'consid', 'dark', 'guess', 'amaz', 'unfortun', 'lost', 'light', 'exampl', 'cinema', 'drama', 'white', 'ye', 'experi', 'imagin', 'mention', 'stop', 'natur', 'forc', 'manag', 'felt', 'present', 'cut', 'children', 'fail', 'son', 'support', 'car', 'qualiti', 'ask', 'hit', 'side', 'voic', 'extrem', 'impress', 'wors', 'evil', 'went', 'stand', 'certainli', 'basic', 'oh', 'overal', 'favorit', 'horribl', 'mysteri', 'number', 'type', 'danc', 'wait', 'hero', 'alreadi', '5', 'learn', 'matter', '4', 'michael', 'genr', 'fine', 'despit', 'throughout', 'walk', 'success', 'histori', 'question', 'zombi', 'town', 'relationship', 'realiz', 'past', 'child', 'daughter', 'late', 'b', 'wish', 'hate', 'credit', 'event', 'theme', 'touch', 'citi', 'today', 'sometim', 'behind', 'god', 'twist', 'sit', 'deal', 'stay', 'annoy', 'abl', 'rent', 'pleas', 'edit', 'blood', 'deserv', 'anyway', 'comic', 'appar', 'soon', 'gave', 'etc', 'level', 'slow', 'chanc', 'score', 'bodi', 'brilliant', 'incred', 'figur', 'situat', 'self', 'major', 'stuff', 'decent', 'element', 'dream', 'return', 'obvious', 'continu', 'order', 'pace', 'ridicul', 'happi', 'highli', 'add', 'group', 'thank', 'ladi', 'novel', 'speak', 'pain', 'career', 'shoot', 'strang', 'heard', 'sad', 'polic', 'husband', 'import', 'break', 'took', 'strong', 'cannot', 'robert', 'predict', 'violenc', 'hilari', 'recent', 'countri', 'known', 'particularli', 'pick', 'documentari', 'season', 'critic', 'jame', 'compar', 'obviou', 'alon', 'told', 'state', 'visual', 'rock', 'offer', 'exist', 'theater', 'opinion', 'gore', 'crap', 'hold', 'result', 'hear', 'realiti', 'room', 'effort', 'clich', 'thriller', 'caus', 'explain', 'serious', 'sequel', 'king', 'local', 'ago', 'none', 'hell', 'note', 'allow', 'sister', 'david', 'simpl', 'femal', 'deliv', 'ok', 'class', 'convinc', 'check', 'suspens', 'win', 'oscar', 'buy', 'huge', 'valu', 'sexual', 'scari', 'cool', 'similar', 'excit', 'apart', 'exactli', 'provid', 'avoid', 'shown', 'seriou', 'english', 'taken', 'whose', 'cinematographi', 'shock', 'polit', 'spoiler', 'offic', 'across', 'middl', 'pass', 'street', 'messag', 'silli', 'charm', 'somewhat', 'modern', 'filmmak', 'confus', 'form', 'tale', 'singl', 'jack', 'mostli', 'william', 'carri', 'attent', 'sing', 'subject', 'five', 'richard', 'prove', 'stage', 'team', 'cop', 'unlik', 'georg', 'televis', 'monster', 'earth', 'villain', 'cover', 'pay', 'marri', 'toward', 'build', 'pull', 'parent', 'due', 'respect', 'fill', 'dialog', 'four', 'remind', 'futur', 'weak', 'typic', '7', 'cheap', 'intellig', 'atmospher', 'british', '80', 'clearli', 'dog', 'non', 'paul', '8', 'fast', 'artist', 'knew', 'crime', 'easili', 'escap', 'doubt', 'adult', 'detail', 'date', 'romant', 'fire', 'member', 'drive', 'gun', 'straight', 'fit', 'beyond', 'attack', 'imag', 'upon', 'posit', 'whether', 'peter', 'fantast', 'appreci', 'aspect', 'captur', 'ten', 'plan', 'discov', 'remain', 'near', 'period', 'realist', 'air', 'mark', 'red', 'dull', 'adapt', 'within', 'lose', 'spend', 'materi', 'color', 'chase', 'mari', 'storylin', 'forget', 'bunch', 'clear', 'lee', 'victim', 'nearli', 'box', 'york', 'match', 'inspir', 'finish', 'mess', 'standard', 'easi', 'truth', 'suffer', 'busi', 'bill', 'space', 'dramat', 'western', 'e', 'list', 'battl', 'notic', 'de', 'french', 'ad', '9', 'tom', 'larg', 'among', 'eventu', 'accept', 'train', 'agre', 'soundtrack', 'spirit', 'third', 'teenag', 'adventur', 'soldier', 'sorri', 'drug', 'suggest', 'famou', 'normal', 'cri', 'babi', 'ultim', 'troubl', 'contain', 'certain', 'cultur', 'romanc', 'rare', 'lame', 'somehow', 'mix', 'disney', 'gone', 'cartoon', 'student', 'reveal', 'fear', 'suck', 'kept', 'attract', 'appeal', 'premis', 'design', 'greatest', 'secret', 'shame', 'throw', 'scare', 'copi', 'wit', 'admit', 'america', 'brought', 'relat', 'particular', 'screenplay', 'whatev', 'pure', '70', 'harri', 'averag', 'master', 'describ', 'treat', 'male', '20', 'fantasi', 'issu', 'warn', 'inde', 'forward', 'background', 'free', 'project', 'japanes', 'memor', 'poorli', 'award', 'locat', 'potenti', 'amus', 'struggl', 'weird', 'magic', 'societi', 'okay', 'accent', 'imdb', 'doctor', 'hot', 'water', 'dr', 'express', '30', 'alien', 'odd', 'choic', 'crazi', 'fiction', 'studio', 'becam', 'control', 'masterpiec', 'difficult', 'fli', 'joe', 'scream', 'costum', 'lover', 'refer', 'uniqu', 'remak', 'girlfriend', 'vampir', 'prison', 'execut', 'wear', 'jump', 'unless', 'wood', 'creepi', 'cheesi', 'superb', 'otherwis', 'parti', 'roll', 'ghost', 'mad', 'public', 'depict', 'earlier', 'jane', 'badli', 'week', 'moral', 'fi', 'dumb', 'grow', 'flaw', 'sci', 'deep', 'cat', 'maker', 'older', 'connect', 'footag', 'bother', 'plenti', 'outsid', 'stick', 'gay', 'catch', 'plu', 'co', 'popular', 'equal', 'social', 'disturb', 'quickli', 'perfectli', 'dress', 'era', '90', 'mistak', 'lie', 'ride', 'previou', 'combin', 'concept', 'band', 'rich', 'surviv', 'answer', 'front', 'christma', 'sweet', 'insid', 'eat', 'concern', 'bare', 'listen', 'beat', 'ben', 'c', 'term', 'serv', 'meant', 'german', 'la', 'hardli', 'stereotyp', 'law', 'innoc', 'desper', 'memori', 'promis', 'cute', 'intent', 'inform', 'variou', 'steal', 'brain', 'post', 'tone', 'island', 'amount', 'track', 'nuditi', 'compani', 'claim', 'store', 'hair', 'flat', '50', 'land', 'univers', 'fairli', 'scott', 'kick', 'danger', 'player', 'step', 'plain', 'crew', 'toni', 'share', 'centuri', 'tast', 'engag', 'achiev', 'travel', 'cold', 'rip', 'suit', 'record', 'sadli', 'manner', 'tension', 'wrote', 'spot', 'fascin', 'intens', 'familiar', 'burn', 'remark', 'depth', 'histor', 'destroy', 'sleep', 'purpos', 'languag', 'ignor', 'ruin', 'delight', 'unbeliev', 'italian', 'abil', 'collect', 'soul', 'detect', 'clever', 'violent', 'rape', 'reach', 'door', 'scienc', 'trash', 'liter', 'commun', 'caught', 'reveng', 'creatur', 'approach', 'trip', 'fashion', 'intrigu', 'paint', 'skill', 'introduc', 'complex', 'channel', 'camp', 'christian', 'extra', 'hole', 'immedi', 'limit', 'ann', 'mental', 'slightli', '6', 'million', 'mere', 'comput', 'slasher', 'conclus', 'imposs', 'suddenli', 'crimin', 'neither', 'teen', 'physic', 'nation', 'spent', 'respons', 'planet', 'fake', 'receiv', 'sick', 'blue', 'bizarr', 'embarrass', 'indian', '15', 'ring', 'drop', 'pop', 'drag', 'haunt', 'suspect', 'pointless', 'search', 'edg', 'handl', 'biggest', 'common', 'arriv', 'faith', 'hurt', 'technic', 'angel', 'dad', 'genuin', 'solid', 'awesom', 'f', 'van', 'former', 'focu', 'colleg', 'count', 'heavi', 'tear', 'wall', 'rais', 'visit', 'younger', 'laughabl', 'sign', 'excus', 'fair', 'cult', 'key', 'motion', 'tough', 'super', 'desir', 'stun', 'addit', 'exploit', 'cloth', 'smith', 'tortur', 'davi', 'race', 'author', 'cross', 'jim', 'minor', 'compel', 'consist', 'focus', 'commit', 'chemistri', 'pathet', 'park', 'obsess', 'frank', 'tradit', 'grade', 'asid', '60', 'brutal', 'somewher', 'steve', 'rule', 'explor', 'opportun', 'depress', 'grant', 'u', 'besid', 'honest', 'anti', 'dub', 'trailer', 'intend', 'bar', 'scientist', 'longer', 'west', 'regard', 'decad', 'judg', 'silent', 'creativ', 'armi', 'wild', 'stewart', 'south', 'g', 'draw', 'road', 'govern', 'ex', 'boss', 'practic', 'surprisingli', 'gang', 'motiv', 'club', 'festiv', 'redeem', 'page', 'london', 'green', 'machin', 'militari', 'display', 'idiot', 'aliv', 'repeat', 'thrill', '100', 'yeah', 'nobodi', 'folk', '40', 'garbag', 'journey', 'ground', 'tire', 'smile', 'mood', 'bought', 'sam', 'cost', 'stone', 'noir', 'mouth', 'agent', 'terrif', 'requir', 'utterli', 'sexi', 'area', 'honestli', 'report', 'geniu', 'investig', 'humour', 'glad', 'enter', 'serial', 'occasion', 'passion', 'narr', 'climax', 'marriag', 'industri', 'studi', 'nowher', 'demon', 'center', 'ship', 'charli', 'hors', 'loos', 'bear', 'hang', 'wow', 'graphic', 'admir', 'giant', 'send', 'damn', 'loud', 'nake', 'subtl', 'rel', 'profession', 'blow', 'bottom', 'insult', 'batman', 'kelli', 'boyfriend', 'doubl', 'r', 'initi', 'frame', 'gem', 'opera', 'affect', 'church', 'cinemat', 'drawn', 'challeng', 'nightmar', 'evid', 'j', 'fulli', 'seek', 'l', 'essenti', 'conflict', 'arm', 'grace', 'wind', 'christoph', 'henri', 'narrat', 'witch', 'assum', 'hunt', 'push', 'chri', 'wise', 'month', 'nomin', 'repres', 'affair', 'sceneri', 'hide', 'avail', 'justic', 'bond', 'smart', 'thu', 'interview', 'outstand', 'flashback', 'presenc', 'satisfi', 'constantli', 'bed', 'central', 'sell', 'content', 'iron', 'gag', 'everybodi', 'slowli', 'hotel', 'hire', 'system', 'hey', 'individu', 'charl', 'thrown', 'adam', 'jone', 'mediocr', 'allen', 'lesson', 'billi', 'ray', 'cameo', 'photographi', 'fellow', 'pari', 'strike', 'independ', 'brief', 'rise', 'absurd', 'neg', 'phone', 'impact', 'model', 'born', 'ill', 'angl', 'spoil', 'fresh', 'abus', 'likabl', 'discuss', 'hill', 'ahead', 'sight', 'sent', 'photograph', 'occur', 'shine', 'logic', 'blame', 'mainli', 'bruce', 'forev', 'skip', 'commerci', 'teacher', 'segment', 'held', 'surround', 'zero', 'blond', 'satir', 'summer', 'trap', 'resembl', 'ball', 'queen', 'fool', 'six', 'tragedi', 'sub', 'twice', 'reaction', 'pack', 'bomb', 'will', 'protagonist', 'hospit', 'sport', 'mile', 'mom', 'jerri', 'drink', 'vote', 'trust', 'encount', 'plane', 'current', 'station', 'program', 'al', 'celebr', 'choos', 'martin', 'join', 'lord', 'favourit', 'field', 'tragic', 'round', 'robot', 'jean', 'vision', 'arthur', 'tie', 'random', 'roger', 'fortun', 'psycholog', 'dread', 'intern', 'prefer', 'epic', 'improv', 'nonsens', 'highlight', 'formula', 'legend', 'pleasur', '11', 'tape', 'dollar', 'gorgeou', 'thin', 'fox', 'porn', 'wide', 'object', 'influenc', 'ugli', 'buddi', 'prepar', 'nasti', 'ii', 'progress', 'supposedli', 'warm', 'reflect', 'worthi', 'youth', 'unusu', 'length', 'latter', 'crash', 'shop', 'seven', 'childhood', 'superior', 'remot', 'theatr', 'paid', 'pilot', 'funniest', 'disgust', 'fell', 'trick', 'convers', 'castl', 'establish', 'disast', 'gangster', 'rob', 'heaven', 'ident', 'disappear', 'mine', 'suicid', 'heroin', 'decis', 'tend', 'singer', 'forgotten', 'mask', 'brian', 'partner', 'desert', 'recogn', 'alan', 'stuck', 'ms', 'thoroughli', 'sky', 'p', 'accur', 'replac', 'market', 'uncl', 'clue', 'seemingli', 'andi', 'commentari', 'eddi', 'danni', 'devil', 'jackson', 'pair', 'therefor', 'refus', 'that', 'fault', 'ed', 'unit', 'fate', 'river', 'accid', 'afraid', 'tune', 'russian', 'clean', 'hidden', 'stephen', 'instanc', 'irrit', 'captain', 'quick', 'convey', 'test', 'readi', 'european', 'insan', 'daniel', 'frustrat', 'food', 'wed', 'rescu', 'chines', '1950', 'dirti', 'lock', 'angri', 'joy', 'steven', 'price', 'cage', 'bland', 'anymor', 'rang', 'wooden', 'news', 'rush', 'jason', 'n', 'board', '12', 'twenti', 'worri', 'led', 'martial', 'transform', 'hunter', 'symbol', 'cgi', 'invent', 'piti', 'onto', 'sentiment', 'johnni', 'x', 'explan', 'process', 'attitud', 'awar', 'owner', 'aim', 'target', 'floor', 'necessari', 'energi', 'favor', 'religi', 'opposit', 'window', 'insight', 'blind', 'chick', 'movement', 'deepli', 'comparison', 'research', 'possess', 'mountain', 'grand', 'comed', 'rain', 'whatsoev', 'shadow', 'began', 'mid', 'bank', 'parodi', 'princ', 'credibl', 'pre', 'taylor', 'friendship', 'weapon', 'teach', 'flesh', 'dougla', 'protect', 'hint', 'terror', 'bloodi', 'marvel', 'drunk', 'leader', 'superman', 'load', 'accord', 'anybodi', 'watchabl', 'freddi', 'brown', 'seat', 'jeff', 'appropri', 'hitler', 'tim', 'villag', 'knock', 'charg', 'unknown', 'keaton', 'media', 'england', 'unnecessari', 'empti', 'enemi', 'craft', 'perspect', 'strength', 'dare', 'utter', 'wave', 'buck', 'kiss', 'correct', 'contrast', 'nativ', 'ford', 'knowledg', 'anywher', 'magnific', 'distract', 'speed', 'soap', 'nazi', 'chill', 'fred', 'breath', 'mission', '1980', 'ice', 'crowd', 'moon', 'jr', 'joan', 'soft', 'frighten', 'kate', '000', 'dick', 'hundr', 'nick', 'dan', 'simon', 'somebodi', 'dozen', 'radio', 'thousand', 'academi', 'loss', 'shakespear', 'andrew', 'vehicl', 'account', 'sum', 'quot', 'root', 'behavior', 'convent', '1970', 'leg', 'regular', 'gold', 'pretenti', 'demand', 'worker', 'compet', 'stretch', 'japan', 'notabl', 'privat', 'candi', 'interpret', 'explos', 'lynch', 'debut', 'constant', 'tarzan', 'translat', 'sea', 'prais', 'revolv', 'spi', 'jesu', 'technolog', 'threaten', 'sat', 'quiet', 'franc', 'failur', 'ass', 'met', 'aid', 'higher', 'punch', 'toy', 'kevin', 'abandon', 'interact', 'vh', 'mike', 'confront', 'separ', 'bet', 'command', 'servic', 'techniqu', 'belong', 'site', 'stunt', 'recal', 'gotten', 'foot', 'freak', 'cabl', 'bug', 'capabl', 'bright', 'fu', 'african', 'jimmi', 'stock', 'fat', 'succeed', 'boat', 'presid', 'clark', 'structur', 'spanish', 'gene', 'kidnap', 'paper', 'belief', 'factor', 'whilst', 'educ', 'tree', 'attend', 'realism', 'witti', 'realis', 'bob', 'complic', 'assist', 'broken', 'santa', 'finest', 'determin', 'v', 'up', 'depart', 'observ', 'smoke', 'domin', 'routin', 'hat', 'fame', 'oper', 'lewi', 'rubbish', 'lone', 'foreign', 'morgan', 'advanc', 'hook', 'kinda', 'safe', 'rank', 'numer', 'shape', 'vs', 'shallow', 'civil', 'washington', 'werewolf', 'rose', 'morn', 'gari', 'accomplish', 'winner', 'ordinari', 'kong', 'virtual', 'peac', 'grab', 'whenev', 'offens', 'h', 'luck', 'contriv', 'complain', 'unfunni', 'bigger', 'patient', 'welcom', 'activ', 'trek', 'con', 'dimension', 'pretend', 'wake', 'dri', 'flash', 'eric', 'lesbian', 'code', 'cain', 'albert', 'statu', 'manipul', 'guard', 'corrupt', 'dancer', 'context', 'speech', 'sourc', 'gain', 'awkward', 'signific', 'sean', 'psycho', '13', 'corni', 'anthoni', 'clip', 'advic', 'religion', 'curiou', 'priest', 'reli', 'theatric', 'w', 'addict', 'flow', 'asian', 'howard', 'secur', 'jennif', 'skin', 'specif', 'comfort', 'golden', 'promot', 'organ', 'luke', 'core', 'lucki', 'cheat', 'cash', 'lower', 'associ', 'dislik', 'balanc', 'frequent', 'frankli', 'spell', 'degre', 'wing', 'regret', 'devic', 'contribut', 'lake', 'print', 'forgiv', 'sake', 'mass', 'betti', 'thoma', 'unexpect', 'crack', 'gordon', 'invit', 'construct', 'depend', 'categori', 'unfold', 'amateur', 'grown', 'walter', 'condit', 'honor', 'anna', 'intellectu', 'matur', 'grew', 'sole', 'mirror', 'spectacular', 'veteran', 'sudden', 'overli', 'freedom', 'card', 'grip', 'demonstr', 'liner', 'robin', 'meanwhil', 'gift', 'experienc', 'colour', 'drew', 'crappi', 'circumst', 'subtitl', 'section', 'oliv', 'theori', 'brilliantli', 'unabl', 'sheriff', 'sheer', 'cook', 'matt', 'parker', 'altern', 'pile', 'laughter', 'path', 'defin', 'wander', 'sinatra', 'hall', 'treatment', 'accident', 'relief', 'lawyer', 'captiv', 'hank', 'dragon', 'halloween', 'moor', 'gratuit', 'barbara', 'wayn', 'wound', 'k', 'kung', 'unintent', 'jacki', 'cowboy', 'broadway', 'winter', 'statement', 'surreal', 'spoof', 'canadian', 'fare', 'cheer', 'treasur', 'fish', 'gonna', 'compos', 'unrealist', 'victor', 'emerg', 'sensit', 'woodi', 'neighbor', 'driven', 'ran', 'sympathet', 'menac', 'topic', 'authent', 'overlook', 'glass', 'expos', 'michel', 'chief', 'ancient', 'handsom', 'gross', 'pleasant', 'contemporari', 'stranger', 'built', 'network', 'russel', 'comedian', 'feet', 'cinderella', 'nevertheless', 'endless', 'earn', 'consider', 'underr', 'miser', 'gori', 'letter', 'blockbust', 'solv', 'brook', 'switch', 'convict', 'edward', 'virgin', 'bullet', 'joseph', 'victoria', 'scenario', 'cynic', '0', 'scale', 'alex', 'chosen', 'outrag', 'curs', 'com', 'sword', 'gut', 'proper', 'wrap', 'driver', 'uk', 'screenwrit', 'juli', 'monkey', 'substanc', 'par', 'court', 'indic', 'bird', 'remov', 'nanci', 'advertis', 'roy', 'rental', 'grave', 'consequ', 'loser', 'inevit', 'naiv', 'slap', 'fatal', 'bridg', 'brave', 'le', 'germani', 'invis', 'ador', 'anger', 'provok', 'loui', 'footbal', 'chan', 'anderson', 'alcohol', 'willi', 'professor', 'stumbl', 'ryan', '1930', 'patrick', 'australian', 'sharp', 'assassin', 'bat', 'liber', 'deni', 'cell', 'refresh', 'amateurish', 'strongli', 'saturday', 'trilog', 'eight', 'ape', 'heck', 'lousi', 'sin', 'san', 'justifi', 'vagu', 'resid', 'indi', 'reput', 'creator', 'mini', 'defeat', 'terrifi', 'sympathi', 'endur', 'prevent', 'tabl', 'expert', 'task', 'tediou', 'imit', 'trial', 'rival', 'employ', 'basebal', 'che', 'offend', 'fairi', 'weekend', 'beach', 'pitch', 'dig', 'europ', 'max', 'complaint', 'format', 'purchas', 'risk', 'murphi', 'reminisc', 'harsh', 'glimps', 'tini', 'hype', 'bite', 'titan', 'nois', 'powel', 'fals', '14', 'till', 'prime', 'asleep', 'north', 'strip', 'descript', 'revel', 'destruct', 'texa', 'africa', 'arrest', 'semi', 'excess', 'inner', 'spin', 'surfac', 'uninterest', 'sitcom', 'maintain', 'twin', 'makeup', 'argu', 'controversi', 'massiv', 'dinosaur', 'hitchcock', 'insist', 'ludicr', 'stare', 'reject', 'ideal', 'kim', 'expens', 'melodrama', 'ga', 'erot', 'press', 'subplot', 'supernatur', 'nail', 'forest', 'atroci', 'ala', 'columbo', 'host', 'cant', 'notch', 'dude', 'identifi', 'presum', 'method', 'crude', 'plagu', 'character', 'guest', 'closer', 'forgett', 'border', 'beast', 'foster', 'landscap', 'princess', 'ear', 'lion', 'storytel', 'bound', 'damag', 'aunt', 'accus', 'pacino', 'urban', 'previous', 'birth', 'jungl', 'guid', 'propaganda', 'doll', 'thirti', 'nude', 'jess', 'emma', 'chose', 'warrior', 'whoever', 'mainstream', '25', 'mate', 'pet', 'merit', 'upset', 'exact', 'gritti', 'deadli', 'friday', 'size', 'latest', 'poster', 'cooper', 'popul', 'citizen', 'blend', 'corps', 'ton', 'rough', 'contact', 'sun', '1990', 'wilson', 'settl', 'contest', 'buff', 'warner', 'widow', 'metal', 'overcom', 'bu', 'select', 'alic', 'mgm', 'rat', 'environ', 'pitt', 'revolut', 'guilti', 'link', 'particip', 'ted', 'lift', 'corner', 'corpor', 'moron', '1960', 'prostitut', 'johnson', 'exagger', 'afternoon', 'matrix', 'accompani', 'holm', 'sincer', 'instal', 'hood', 'doom', 'friendli', 'leagu', 'clair', 'multipl', 'grim', 'hip', 'irish', 'campi', 'examin', 'lugosi', 'sunday', 'string', 'blah', 'advis', 'aka', 'junk', 'defend', 'tight', 'rachel', 'icon', 'shake', 'shut', 'confid', 'varieti', 'pro', 'goal', 'jaw', 'denni', 'sullivan', 'attach', 'mexican', 'directli', 'medic', 'sarah', 'bourn', 'breast', 'duke', 'dean', 'truck', 'terrorist', 'courag', 'prior', 'sentenc', 'vietnam', 'legendari', 'un', 'donald', 'split', 'entri', 'nose', 'yell', 'hong', 'behav', 'proceed', 'lifetim', 'stolen', 'jerk', 'concentr', 'everywher', 'forth', 'gather', 'confess', 'unconvinc', 'buri', 'borrow', 'crush', 'swim', 'deliveri', 'turkey', 'pan', 'julia', 'california', 'spite', 'lip', 'freeman', 'downright', 'hoffman', 'flight', 'proud', 'reward', 'quest', 'china', 'offici', 'fade', 'worthwhil', 'notori', 'encourag', 'lazi', 'jail', 'sir', 'sink', 'inept', 'fabul', 'betray', 'jon', 'relev', 'teeth', 'retard', 'branagh', 'bell', 'shower', 'survivor', 'cousin', 'storm', 'lisa', 'bag', 'susan', 'imageri', 'tremend', 'summari', 'toler', 'trade', 'hugh', 'mexico', 'facial', 'finger', 'stab', 'alright', 'shark', 'quirki', 'bride', 'bitter', 'pose', 'hyster', 'von', 'ha', 'blown', 'ned', 'afterward', 'ron', 'bone', 'larri', 'cruel', 'scheme', 'christ', 'address', 'thumb', 'pursu', 'screw', 'feed', 'traci', 'distinct', 'swear', 'beg', 'snake', 'tour', 'stomach', 'raw', 'obscur', 'photo', 'occas', 'mechan', 'chair', 'resist', 'gruesom', 'render', 'sidney', 'heavili', 'holiday', 'hardi', 'argument', 'southern', 'cabin', 'necessarili', 'chain', 'philip', 'understood', 'indulg', 'india', 'racist', 'satan', 'stalk', 'obnoxi', 'lay', 'fourth', 'outfit', 'forgot', 'tongu', 'pregnant', 'belov', 'midnight', 'integr', 'inhabit', 'garden', 'slapstick', 'ticket', 'magazin', 'deeper', '17', 'restor', 'carol', 'incid', 'devot', 'lincoln', 'shoe', 'brad', 'disbelief', 'divorc', 'lili', 'guarante', 'benefit', 'sandler', 'anticip', 'underground', 'elizabeth', 'maria', 'princip', 'capit', 'slave', 'greater', 'creation', 'cring', 'amazingli', 'explod', 'bbc', 'mildli', 'lesli', 'halfway', 'extraordinari', 'funnier', 'introduct', 'extent', 'enhanc', 'overwhelm', 'wreck', 'text', 'advantag', 'transfer', 'tap', 'punish', 'horrif', 'plant', 'preview', 'east', 'deliber', 'lane', 'error', 'jessica', 'lo', 'dynam', '2000', 'miller', 'ensu', 'vacat', 'vincent', 'appli', 'basi', 'sophist', 'homosexu', 'miscast', 'elev', 'uncomfort', 'extend', 'steel', 'spoken', 'sleazi', 'measur', 'mansion', 'bollywood', 'reed', 'via', 'cathol', 'breathtak', 'conceiv', 'mous', 'fix', 'overact', 'daili', 'assign', 'hippi', 'goofi', 'blair', 'savag', 'melt', 'alter', 'dentist', 'beer', 'stanley', 'carpent', 'succe', 'subsequ', 'sacrific', 'nowaday', 'everyday', 'oppos', 'inspector', 'properli', 'burt', 'neck', 'circl', 'block', 'laura', 'massacr', 'grey', 'portrait', 'lesser', 'concert', 'fallen', 'christi', 'mob', 'access', 'fay', 'seagal', 'pool', 'isol', 'react', 'relax', 'jewish', 'chees', 'competit', 'usa', 'jake', 'sinist', 'ironi', 'suitabl', 'stink', 'nonetheless', 'appal', 'spiritu', 'chop', 'nine', '2006', 'immens', 'creep', 'lyric', 'rage', 'shirt', 'reduc', 'retir', 'showcas', 'spring', 'luci', 'sold', 'navi', 'adopt', 'nut', 'user', 'franchis', 'needless', 'zone', 'per', 'asham', 'jay', 'bath', 'uninspir', 'bulli', 'stanwyck', 'digit', 'nurs', 'oddli', 'broadcast', '2001', 'amongst', 'upper', 'laid', 'illustr', 'sutherland', '1940', 'disguis', 'stylish', 'brando', 'baker', 'throat', 'fulfil', 'aspir', 'nobl', 'impli', 'pound', 'thief', '18', 'endear', 'pride', 'neighborhood', 'em', 'wwii', 'wanna', 'dinner', 'tens', 'cinematograph', 'shift', 'albeit', 'shoulder', 'distribut', 'diseas', 'dawn', '16', 'coher', 'rochest', 'prop', 'bett', 'bo', 'function', 'poignant', 'wash', 'surf', 'shout', 'matthau', 'forti', 'snow', 'silenc', 'contract', 'rebel', 'knife', 'proof', 'cancel', 'eeri', 'height', 'internet', 'reunion', 'instinct', 'heat', 'silver', 'widmark', 'chuck', 'duti', 'horrend', 'cannib', 'mindless', 'elvira', 'henc', 'derek', 'spielberg', 'torn', 'neat', 'absorb', 'musician', 'incoher', 'innov', 'mill', 'repetit', 'greatli', 'pie', 'glori', 'alik', 'etern', 'premier', 'elvi', 'horrifi', 'bang', 'infam', 'diamond', 'precis', 'itali', 'lovabl', 'britain', 'redempt', 'wealthi', 'announc', 'burton', 'fbi', 'racism', 'crisi', 'nelson', 'homag', 'trite', 'blank', 'happili', 'parallel', 'chaplin', 'flop', 'resolut', 'wilder', 'dedic', 'ensembl', 'pat', 'hammer', 'helen', 'streisand', 'conclud', 'carter', 'triumph', 'oil', 'mar', 'disagre', 'plastic', 'factori', 'st', 'cube', 'broke', 'bush', 'vega', 'march', 'rocket', 'chuckl', 'own', 'climb', 'row', 'fighter', 'weight', 'sensibl', 'lust', 'unforgett', 'spare', 'enorm', 'dane', 'luca', 'boot', 'kurt', 'wherea', 'mst3k', 'meaning', 'thug', 'dump', 'engin', 'adequ', 'stress', 'fifti', 'dear', 'brand', 'caricatur', 'threat', 'arnold', 'rap', 'bobbi', 'butt', 'karloff', 'difficulti', 'barri', 'polish', 'journalist', 'ralph', 'swing', 'elabor', 'secretari', 'fest', 'ego', 'arrog', 'flynn', 'homeless', 'hamlet', 'simpson', 'arrang', 'grate', 'induc', 'conspiraci', 'tool', 'resort', 'fanci', 'puppet', 'spike', 'unbear', 'float', 'guilt', 'basement', 'exercis', 'boll', 'tribut', 'cruis', 'choreograph', 'phillip', 'pig', 'muppet', 'puzzl', 'medium', '24', 'layer', 'ward', 'babe', 'file', 'tower', 'korean', 'document', 'stan', 'editor', 'ham', 'fianc', 'slip', 'scarecrow', 'item', 'toilet', 'persona', 'catherin', 'assur', 'glover', 'transit', 'spark', 'minim', 'philosoph', 'territori', 'portion', 'denzel', 'librari', 'larger', 'orient', 'superfici', 'inexplic', 'slaughter', 'doc', 'curti', 'shi', 'pg', 'sneak', 'wolf', 'walken', 'owe', 'financi', 'dorothi', 'jet', 'boredom', 'ban', 'jeremi', 'eleph', 'profound', 'multi', 'ambigu', 'hudson', 'metaphor', 'cusack', 'whale', 'backdrop', 'implaus', 'rave', 'birthday', 'stiff', 'elsewher', '2005', 'union', 'ultra', 'viru', 'notion', 'hack', 'gadget', 'bibl', 'newspap', 'distanc', 'disc', 'deriv', 'lloyd', 'hawk', 'slight', 'reader', 'poison', 'urg', 'afford', 'pad', 'eva', 'squar', '1st', 'canada', 'eastwood', 'superhero', 'charisma', 'huh', 'button', 'essenc', 'skit', 'sadist', 'cure', 'spread', 'heston', 'montag', 'restaur', 'drown', 'health', 'dealt', 'companion', 'gradual', 'estat', 'muslim', 'fetch', 'lab', 'maniac', 'godfath', 'peak', 'scoobi', 'invest', 'countless', 'kane', 'miik', 'ritter', 'subtleti', 'cup', 'servant', 'alli', 'gothic', 'tea', 'briefli', 'salli', 'iii', 'elect', 'heroic', 'charismat', 'electr', 'reel', 'ingredi', 'tender', 'admittedli', 'toss', 'bud', 'resourc', 'wannab', 'nuanc', 'cole', 'grandmoth', 'neil', 'stronger', 'pauli', 'carrey', 'gate', 'shall', 'punk', 'stood', 'mafia', 'dawson', 'reev', 'kubrick', 'label', 'poverti', 'pit', 'mild', 'ian', 'useless', 'tag', 'smash', 'astair', 'updat', 'cox', 'outcom', 'fond', 'smooth', 'terri', 'easier', 'cardboard', 'burst', 'assault', 'bakshi', 'increasingli', 'divers', 'vari', 'exchang', 'rex', 'coincid', 'vulner', 'melodramat', 'fist', 'resolv', 'qualifi', 'sketch', '2002', 'samurai', 'conveni', 'suspend', 'brillianc', 'scratch', 'tame', 'luckili', 'reynold', 'templ', 'blast', 'be', 'insert', 'pin', 'matthew', 'jami', 'soprano', 'meat', 'ambiti', 'fisher', 'farm', 'coach', 'seventi', 'strictli', 'nuclear', 'gotta', 'walker', 'hamilton', 'worthless', 'eccentr', 'recreat', 'kudo', 'instantli', 'monk', 'revers', 'spooki', 'butcher', 'empir', 'grasp', 'joey', 'ninja', 'cave', 'discoveri', 'brosnan', 'clock', 'timeless', 'convolut', 'struck', 'closet', 'bleak', 'importantli', 'fifteen', 'sloppi', 'miracl', 'inconsist', 'gray', 'clown', 'evok', 'pal', 'eighti', 'communist', 'sidekick', 'mitchel', 'selfish', 'seller', 'wipe', 'cliff', 'partli', 'declar', 'norman', 'aforement', 'superbl', 'chew', '45', 'enthusiast', 'psychiatrist', 'australia', 'debat', 'websit', 'lifestyl', 'destin', 'piano', 'cheek', 'farc', 'stoog', 'flawless', 'seed', 'ho', 'wick', 'pressur', 'soviet', 'slice', 'dire', 'directori', 'emili', 'regardless', 'incompet', 'bash', 'akshay', 'splatter', 'drivel', 'wrestl', 'anni', 'dash', 'kitchen', 'abc', 'beaten', 'ken', 'recov', 'judi', 'cia', 'artifici', 'seduc', 'suppli', 'pleasantli', 'cameron', 'curios', 'flower', 'prize', 'duo', 'mann', 'glow', 'lou', 'dave', 'blob', 'doo', 'helicopt', 'chapter', 'boil', 'jar', 'increas', 'cagney', 'distant', 'craig', 'combat', 'splendid', 'perri', 'goldberg', 'ranger', 'turner', 'psychot', 'favour', 'web', 'laurel', 'drunken', 'eleg', 'ellen', 'panic', 'glenn', 'francisco', 'craven', 'hop', 'shortli', 'gentl', 'graduat', 'plausibl', 'wizard', 'fx', 'slightest', 'ruth', 'min', 'flip', '20th', 'alexand', 'philosophi', 'gandhi', 'hatr', 'greek', 'modesti', 'rid', 'falk', 'futurist', 'felix', 'lend', 'unpleas', 'harm', 'legal', 'dracula', 'ocean', 'fund', 'tall', 'knight', 'preciou', 'manhattan', 'jealou', 'holi', 'we', 'scientif', 'bless', 'tank', 'explicit', 'thread', 'ami', 'childish', 'reviv', 'nod', 'mock', 'forbidden', 'digniti', 'giallo', 'overdon', 'eve', 'thick', 'yesterday', 'margaret', 'nerv', 'repeatedli', 'unwatch', '2004', 'broad', 'fever', 'awe', '99', 'awaken', 'mel', 'pirat', 'elderli', 'torment', 'verhoeven', 'roman', 'absenc', 'uniform', 'griffith', 'automat', 'kay', 'stiller', 'eas', 'rivet', 'politician', 'lean', 'ambit', 'timothi', 'royal', 'publish', 'ah', 'acclaim', 'custom', 'romero', 'bin', 'launch', 'bathroom', 'antic', 'sunshin', 'stinker', 'pulp', 'darker', 'warren', 'purpl', 'termin', 'pierc', 'phrase', 'tomato', 'crook', 'homicid', 'transport', 'foul', 'wallac', 'gabriel', 'saint', 'prom', 'packag', 'rambo', 'revolutionari', 'contrari', 'coloni', 'hollow', 'brazil', '2003', 'juvenil', 'sixti', 'li', 'evolv', 'karen', 'album', 'kenneth', 'eyr', 'viciou', 'pray', 'donna', 'choreographi', 'ought', 'horrid', 'awak', 'marin', 'q', 'boast', 'dose', 'ireland', 'stole', 'candid', 'nerd', 'beatti', 'defi', 'conserv', 'kapoor', 'option', 'twelv', 'mildr', 'overr', 'mummi', 'ramon', 'blade', 'confirm', 'protest', 'global', 'detract', 'collabor', 'astonish', 'jazz', 'kirk', 'natali', 'flame', 'funer', 'altman', 'trio', 'fulci', 'leap', 'shade', 'enterpris', 'whip', 'tommi', 'yellow', 'bottl', 'delici', 'spit', 'audio', 'racial', 'blake', 'mystic', 'bull', 'destini', 'nicholson', 'neo', 'harder', 'adolesc', 'meaningless', 'enchant', 'merci', 'bedroom', 'visibl', 'altogeth', 'inherit', 'popcorn', 'reunit', 'fonda', 'swedish', 'threw', 'staff', 'vivid', 'pseudo', 'todd', 'moodi', 'reserv', 'leonard', 'fanat', 'tip', 'madonna', 'edi', 'kennedi', 'uneven', 'lemmon', 'exhibit', 'ruthless', 'respond', 'roommat', 'decor', 'befriend', 'voight', 'wire', 'await', 'crocodil', 'atlanti', 'suspici', 'jew', 'synopsi', 'lawrenc', 'bust', 'dimens', 'bradi', 'bargain', 'voyag', 'clint', 'ventur', 'bold', 'incident', 'audit', 'clumsi', 'chao', 'rural', 'unsettl', 'palma', 'centr', 'carl', 'abysm', 'holli', '2007', 'garner', 'imperson', 'acknowledg', 'lit', 'mall', 'nearbi', 'echo', 'cuba', 'versu', 'characterist', 'ant', 'wealth', 'tiger', '2nd', 'elimin', 'troop', 'trail', 'cd', 'daddi', 'humili', 'poetic', 'cari', 'immigr', 'neglect', 'hart', 'timon', 'collaps', 'prejudic', 'pun', 'mistaken', 'jeffrey', 'celluloid', 'domest', 'infect', 'mickey', 'solo', 'saga', 'repuls', 'homer', 'paus', 'marshal', 'promin', 'inan', 'ginger', 'assembl', '1996', 'tribe', 'interrupt', 'coffe', 'chest', 'hbo', 'milk', 'sore', 'apolog', 'pant', 'coat', 'cake', 'harvey', 'gear', 'leon', 'inappropri', 'olivi', 'equip', 'undoubtedli', 'highest', 'humbl', 'polanski', 'colleagu', 'trace', 'exot', 'airplan', 'pen', 'instant', 'pot', 'aveng', 'jenni', 'embrac', 'brooklyn', 'devast', 'institut', 'vulgar', 'furthermor', 'retain', 'primari', 'consum', 'maggi', 'solut', 'florida', 'colonel', 'cope', 'bowl', 'descend', '3rd', 'dutch', 'principl', 'outer', 'smaller', 'godzilla', 'sale', 'dian', 'illog', 'strain', 'wive', 'poke', 'seduct', '1999', 'ya', 'gender', 'linda', 'rick', 'disabl', 'gloriou', 'dud', 'mixtur', 'inferior', 'vast', 'blatant', 'dive', 'primarili', 'bubbl', 'scope', 'hal', 'secondli', 'beneath', 'rabbit', 'devoid', 'cue', 'yard', 'predecessor', 'lol', 'glamor', 'gundam', 'simplist', 'grinch', 'aggress', 'casual', 'senseless', 'april', 'et', 'disjoint', 'countrysid', 'trademark', 'z', 'alfr', 'hideou', 'pearl', 'arab', 'myer', 'breed', 'shelf', 'shirley', 'domino', 'garbo', 'alert', 'streep', 'invas', 'talki', 'museum', 'robberi', 'rendit', 'defens', 'disgrac', 'sh', 'boom', 'oz', 'applaud', 'uwe', 'mayor', 'illeg', 'loyal', 'khan', 'stack', 'unhappi', 'robinson', 'slide', 'obtain', 'hopeless', 'experiment', 'mail', 'stellar', 'vanish', 'acid', 'maci', 'stir', 'hardcor', 'tempt', 'tenant', 'grandfath', 'span', 'topless', 'fri', 'berlin', 'wont', 'recruit', 'spider', 'rifl', 'counter', 'declin', 'emphasi', 'psychic', 'blew', 'dismiss', 'incomprehens', 'hartley', 'dicken', 'soccer', 'craze', 'diana', 'scroog', 'amanda', 'revolt', 'trashi', 'resurrect', 'intim', 'ethnic', 'lumet', 'faster', 'wet', 'shaw', 'parad', 'ration', 'sibl', 'justin', 'sympath', 'niro', 'riot', 'woo', 'goer', 'shed', 'porno', 'bitch', 'wendi', 'jonathan', 'hesit', 'farmer', 'partial', 'immort', 'feminist', 'dealer', 'eager', 'ensur', 'mario', 'steam', 'choru', 'rider', 'patriot', 'unreal', 'biographi', 'slick', 'honesti', 'gap', 'enlighten', 'andr', 'weakest', 'commend', 'wheel', 'worm', '00', 'region', 'ballet', 'lena', 'hopper', 'nephew', 'morri', 'composit', 'blunt', 'nostalg', 'charlott', 'sappi', 'psychopath', 'similarli', 'wore', 'kingdom', 'leo', 'safeti', 'snap', 'confin', 'properti', 'mutant', 'prequel', 'franco', 'vice', 'util', 'sandra', 'repress', 'hung', 'macarthur', 'owen', 'victori', 'skull', 'thru', 'acquir', 'rambl', 'del', 'speci', 'snl', 'despair', 'bow', 'recycl', 'whoopi', 'bergman', 'pattern', '1972', 'miseri', 'heartbreak', 'exit', 'drum', 'bonu', 'latin', 'emperor', 'repli', 'rocki', 'kyle', 'compass', 'tail', 'campbel', 'deed', 'compens', 'rope', 'drain', 'hyde', 'farrel', 'dalton', 'strand', 'tad', 'valuabl', 'dust', 'bumbl', 'montana', 'nervou', 'cg', 'airport', 'gimmick', 'carradin', 'orson', 'chess', '35', 'gal', 'olli', 'tonight', 'pour', 'contempl', 'bleed', 'roth', 'da', 'radic', 'romp', 'rapist', 'oppress', 'martian', 'downhil', 'mistress', 'rotten', 'wacki', 'percept', 'slug', 'preach', 'champion', 'pervers', 'unpredict', 'arguabl', 'belt', 'pursuit', 'dazzl', 'taught', '1983', 'attorney', 'stilt', 'paltrow', 'melodi', 'heal', 'tackl', 'banal', 'shelley', 'programm', 'arc', 'pervert', 'tooth', 'edgar', 'slash', 'mislead', 'sensat', 'graham', 'gambl', 'uplift', 'virginia', 'raymond', 'employe', 'poem', 'closest', 'bela', 'conneri', 'vengeanc', 'chicken', 'duval', 'vocal', 'maid', 'orang', 'tiresom', 'plight', 'cleverli', 'mesmer', 'passeng', 'franki', 'rubi', 'dixon', 'marti', 'monologu', 'clone', 'numb', 'engross', 'outing', 'yawn', '1968', 'paranoia', 'profan', 'pokemon', 'amitabh', 'extens', 'calm', 'secretli', 'sirk', 'mute', 'giggl', 'swallow', 'quarter', 'volum', 'scottish', 'climact', 'abraham', 'tube', 'gerard', 'bay', 'habit', 'inject', 'whine', 'convincingli', 'iran', 'lundgren', 'crystal', 'suffic', 'bend', 'meander', 'surpass', 'junior', 'linger', 'backward', 'ethan', 'grotesqu', 'richardson', 'expand', 'taxi', 'septemb', 'plod', 'earl', 'dispos', 'austen', 'trend', 'spock', 'profess', 'im', 'chicago', 'lowest', 'poetri', 'nichola', 'fed', 'abort', 'frankenstein', 'underst', 'franci', 'rant', 'compliment', 'muddl', 'hum', 'econom', 'greedi', 'sue', 'myth', 'rubber', 'lure', 'dysfunct', 'household', 'tourist', 'simplic', 'literatur', 'nostalgia', 'cannon', 'mundan', 'spoke', 'descent', 'instrument', 'catchi', 'eugen', 'stallon', 'waitress', 'der', 'flee', 'mankind', 'cent', 'stale', 'hello', 'coast', 'bacal', 'dement', 'dictat', 'insur', 'june', 'alongsid', 'irrelev', 'carel', 'phoni', 'map', 'equival', 'deaf', 'occupi', 'molli', 'louis', 'crucial', 'recognit', 'mortal', 'omen', 'damon', 'randi', 'recognis', 'eaten', 'firstli', 'phantom', 'furi', 'lang', 'duck', 'sissi', 'lengthi', 'wisdom', 'bike', 'twilight', 'blackmail', 'buffalo', 'heel', 'freez', 'onlin', 'cyborg', 'dreari', 'loyalti', 'rude', 'newli', 'distinguish', 'likewis', 'biko', 'bump', 'daisi', 'rooney', '1973', 'ashley', 'reign', 'drake', 'grayson', 'damm', 'labor', 'antwon', 'startl', 'provoc', 'proce', 'interior', 'emphas', 'worn', 'approv', 'nineti', 'exposur', 'analysi', 'butler', 'vein', 'pink', 'barrymor', 'unorigin', 'attribut', 'prey', 'incorpor', 'tunnel', 'boxer', 'keith', 'inher', 'ridden', 'sailor', 'baddi', 'basketbal', 'chronicl', 'hypnot', 'meyer', 'meg', 'substitut', 'condemn', 'er', 'fleet', 'simmon', 'elm', 'drift', 'underli', 'bunni', 'degrad', 'robbin', 'othello', 'stalker', 'carla', 'nicol', 'barrel', 'mighti', 'indiffer', 'millionair', 'improvis', 'mormon', 'julian', 'walsh', 'predat', 'unrel', 'belushi', 'undeni', 'alison', 'nyc', 'edgi', 'priceless', 'greed', 'lampoon', 'watson', 'vital', 'rukh', 'shove', 'roof', 'mtv', 'reid', 'palac', 'firm', 'agenda', 'alarm', 'enthusiasm', 'disord', 'novak', 'warmth', 'hay', 'unawar', 'errol', 'exquisit', '3d', 'dolph', 'marion', 'simultan', 'valentin', 'campaign', 'pamela', 'unleash', '13th', 'petti', 'spain', 'preserv', 'showdown', 'ponder', 'profit', 'testament', 'championship', 'eastern', 'randomli', 'drip', 'distort', 'israel', 'nun', '1933', 'orlean', 'crown', 'gestur', 'peril', 'cassidi', 'coup', 'what', 'angela', 'minimum', 'beatl', 'iraq', 'peck', 'glanc', 'thompson', 'session', 'zizek', 'sergeant', 'brenda', 'gentleman', 'buster', 'miyazaki', 'calib', 'shootout', 'perpetu', 'contradict', 'reson', 'quinn', 'han', 'rout', 'valley', 'kurosawa', '1984', 'unimagin', 'restrain', 'travesti', 'stake', 'cream', 'mon', 'crow', 'scotland', 'realm', 'cooki', 'empathi', 'jan', 'crawl', 'sabrina', 'represent', 'regist', 'exposit', 'stroke', 'wig', 'din', 'climat', 'bro', 'fido', 'demis', 'warrant', 'unsatisfi', 'baldwin', '1997', 'pole', 'josh', 'distress', 'shaki', 'unseen', 'cloud', 'traumat', 'delic', 'abomin', 'painter', 'passabl', 'ross', 'derang', 'censor', 'compromis', 'shoddi', 'sammi', 'businessman', 'pretens', 'dana', 'perceiv', 'absent', 'wax', 'geek', '1987', 'fuller', 'mclaglen', 'monoton', 'meryl', 'stargat', 'soderbergh', 'greg', 'spacey', 'darren', 'sucker', 'tacki', 'crawford', 'femm', 'ustinov', 'valid', 'tech', 'wholli', 'nathan', 'exclus', 'austin', 'deniro', 'seal', 'unravel', 'norm', 'tarantino', 'accuraci', 'kumar', 'verbal', 'judgment', '1993', 'deceas', 'click', 'expedit', 'sid', 'furiou', 'jewel', 'reluct', 'fog', 'fenc', 'polici', 'clash', 'dee', 'correctli', 'primit', 'antonioni', 'anchor', 'uncov', 'debt', 'alec', 'clerk', 'slam', 'dreck', 'fart', '3000', 'seldom', '1971', 'temper', 'sand', 'wretch', 'sheet', 'darn', 'behold', 'mode', 'malon', 'unfair', 'patienc', 'sustain', 'conduct', 'wang', 'joel', 'sunni', 'crippl', 'pocket', 'fought', '1995', 'roller', 'fabric', 'shanghai', 'tax', 'bake', 'murray', 'enforc', 'nicola', 'hallucin', '2008', 'trait', 'logan', 'ritual', 'vanc', 'exhaust', 'legaci', 'divid', 'conscious', 'schedul', 'sweep', 'preston', 'bridget', 'penni', 'despis', 'bias', 'preposter', 'stark', 'pete', 'helpless', 'scriptwrit', 'squad', 'technicolor', 'stuart', 'grief', 'canyon', 'tactic', 'soup', 'fundament', 'phil', 'clau', 'isabel', 'runner', 'outlin', 'rita', 'critiqu', 'guitar', 'robber', 'shell', 'passag', 'jacket', 'sentinel', 'bloom', 'rear', 'jodi', 'restrict', 'marc', 'liberti', 'implic', 'unexpectedli', 'vomit', 'gregori', 'alley', 'invad', 'downey', 'russia', 'flair', 'drove', 'delv', 'lacklust', 'agenc', 'culmin', 'inabl', 'cigarett', 'consciou', 'alicia', 'connor', 'rehash', 'sugar', 'propos', 'boyl', 'palanc', 'kansa', 'sniper', 'newman', 'feat', 'horn', 'aesthet', 'lush', 'rod', 'wrench', 'rampag', 'delet', 'ladder', 'chainsaw', 'improb', '22', 'tripe', '1936', 'cap', 'pale', 'vet', 'behaviour', 'sharon', 'rehears', 'yeti', 'awhil', 'mccoy', 'asylum', 'arrow', 'karl', 'kolchak', 'foxx', 'tendenc', 'bacon', '1978', 'rumor', 'stream', 'aristocrat', 'filler', 'basing', 'wildli', 'prank', 'amazon', 'elit', 'wagner', 'tasteless', 'conscienc', 'newcom', '1988', 'lurk', 'loneli', 'suspicion', 'suffici', 'financ', 'hulk', 'weav', 'el', 'shortcom', 'fright', '1920', 'paradis', '19th', 'sung', 'hackney', 'scoop', 'spice', 'coaster', 'rhythm', 'paramount', 'hungri', 'minu', 'tomorrow', 'globe', 'underneath', 'thunderbird', 'visitor', '1939', 'curli', 'penn', 'leigh', 'quietli', 'literari', 'counterpart', 'secondari', 'teas', 'springer', 'naughti', 'brit', '75', 'inmat', 'paxton', 'heist', 'recogniz', 'immers', 'rub', 'grudg', 'smell', 'cancer', 'couch', 'ingeni', 'minist', 'lectur', 'entranc', 'straightforward', 'worship', '1989', 'atroc', 'iv', 'hopkin', 'bread', 'posey', 'beverli', 'dirt', 'abrupt', 'chamberlain', 'ram', 'choppi', 'en', 'standout', 'chavez', 'impos', 'tierney', 'wwe', 'skeptic', 'policeman', 'injuri', 'misguid', 'sublim', 'quaid', 'transcend', 'enthral', 'laurenc', 'esther', 'moreov', 'bernard', 'ace', 'cattl', 'geni', 'nolan', 'watcher', 'lindsay', 'attenborough', 'yearn', 'duel', 'nemesi', 'sassi', 'convert', 'heartfelt', 'variat', '1986', 'morbid', 'missil', 'net', 'entitl', 'clan', 'ratso', 'buzz', 'enabl', '1979', 'steadi', 'tyler', 'characteris', 'unexplain', 'graini', 'mytholog', 'artsi', 'rosemari', 'brood', 'bean', 'setup', 'egg', 'vader', 'grin', 'out', 'facil', 'carlito', 'spiral', 'cruelti', 'moder', 'reliabl', 'youngest', 'kidman', 'dont', 'bye', 'kitti', 'hk', 'diari', 'obstacl', 'uncut', 'poe', 'hopelessli', 'puppi', 'clueless', 'despic', 'bewar', 'disastr', 'decept', 'weather', 'bounc', 'hammi', 'gina', 'effici', 'patricia', 'brendan', 'hain', 'sweat', 'narrow', 'athlet', 'kline', 'niec', 'baffl', 'oblig', 'heap', 'acquaint', 'underworld', 'spontan', 'gillian', '1969', 'martha', 'christin', 'exterior', 'preming', 'fuel', 'bronson', 'renaiss', 'scar', 'shatter', 'viewpoint', 'astound', 'housewif', 'virtu', 'headach', 'outlaw', 'hepburn', '73', 'harmless', 'dandi', 'sleepwalk', 'angst', 'mayhem', 'preachi', 'biker', 'suprem', '19', 'insipid', 'goof', 'dilemma', 'sooner', 'rome', 'mermaid', 'tick', 'injur', 'taboo', 'trigger', 'loi', 'lester', 'candl', 'enlist', 'loath', 'analyz', 'uh', 'circu', 'fontain', 'boston', 'claustrophob', 'hooker', 'surgeri', 'foolish', 'contempt', 'redund', 'filth', 'sox', 'overlong', 'stair', 'spade', 'cassavet', 'steer', 'salt', 'amor', 'idol', 'bent', 'dish', 'phenomenon', 'oldest', 'ariel', 'immatur', 'slimi', 'intric', 'hokey', 'guin', 'zoom', 'macho', 'tripl', 'ebert', 'fluff', 'stimul', 'whore', 'scorses', 'camcord', 'dismal', 'hostag', 'glorifi', 'gere', 'corbett', '1981', 'frantic', 'rhyme', 'remad', 'spree', 'transplant', 'perman', 'schlock', 'flashi', 'nolt', 'cow', 'astronaut', 'margin', 'messi', 'proport', 'mount', 'trivia', 'shield', 'muscl', 'conquer', 'antagonist', 'keen', 'obligatori', 'mutual', 'alvin', 'preced', 'gasp', 'flag', 'strongest', '1976', 'corman', 'radiat', 'dwarf', 'zane', 'assert', 'joker', 'cohen', 'faint', 'shred', 'cush', 'flirt', 'widescreen', 'down', 'beard', 'fascist', 'spinal', 'gabl', 'harold', 'naschi', 'off', 'scandal', 'barn', 'mol', 'sensual', 'vaniti', 'bachelor', 'instruct', '28', 'persuad', 'raj', 'departur', 'discern', 'someday', 'carey', 'www', 'neurot', '1945', 'deer', 'resum', 'fishburn', 'ritchi', 'boob', 'danish', 'hara', 'archiv', 'brush', 'flock', 'info', 'wield', 'inflict', 'claud', 'divin', 'interestingli', 'strive', '95', 'aborigin', 'mobil', 'bitten', 'repris', 'triangl', 'biblic', 'traffic', 'prophet', 'proclaim', 'undermin', 'recit', 'bate', 'luka', 'rot', 'submit', 'dylan', 'pacif', 'frontier', 'parson', 'wendigo', 'pickford', 'hilar', 'vibrant', 'clad', 'helm', 'jade', 'earnest', 'dim', 'heartwarm', 'hapless', 'ish', 'carlo', 'axe', 'artwork', 'melissa', 'senior', 'harrison', 'fragil', 'cher', 'loretta', 'cliffhang', 'cycl', 'banter', 'cb', 'miracul', 'pixar', 'mobster', 'hug', 'europa', 'dame', 'neill', 'casino', 'kathryn', 'anton', 'colin', 'timberlak', 'aris', 'bondag', 'breakfast', 'choke', 'vile', 'cerebr', 'pc', 'uma', 'flavor', 'legitim', 'venom', 'http', 'winchest', 'seedi', 'wardrob', 'blatantli', 'mathieu', 'electron', 'isra', 'estrang', 'feast', 'articl', 'foil', 'northern', 'bikini', 'holocaust', 'nope', 'static', 'misfortun', 'sicken', 'orphan', 'lui', 'illus', 'toronto', 'redneck', 'token', 'marlon', 'rooki', 'lucil', 'vanessa', 'akin', 'trier', 'mason', 'antholog', 'jordan', 'jo', 'razor', 'shepherd', 'eli', 'milo', 'alexandr', 'gilbert', 'styliz', 'psych', 'howl', 'linear', 'clinic', 'peer', 'glare', 'shorter', 'feminin', 'abund', 'turd', 'smack', 'nightclub', 'knightley', 'frog', 'comprehend', 'magician', 'wrestler', 'affleck', 'audrey', 'tack', 'charlton', 'highway', 'disregard', 'retriev', 'dudley', 'fifth', 'huston', 'cartoonish', 'boyer', 'deem', 'ideolog', 'leather', 'ceremoni', 'gunga', 'outdat', 'swept', 'oppon', 'toe', 'monument', '4th', 'corn', 'summar', 'plate', 'phenomen', 'bogu', 'mitch', 'moe', 'btw', 'collector', 'greet', 'tara', 'lifeless', 'compris', 'deliver', 'lighter', 'evolut', 'lavish', 'conrad', 'energet', 'spawn', 'einstein', 'boo', '1994', '1991', 'client', 'cuban', 'cemeteri', 'potter', 'goldsworthi', 'newer', 'durat', 'bastard', 'spine', 'whack', 'uniformli', 'senat', 'braveheart', 'snatch', 'breakdown', 'salman', 'chip', 'sleaz', 'trauma', 'capot', 'wtf', 'liu', 'jare', 'bulk', 'appl', 'alleg', 'bori', 'belli', 'ie', 'nina', 'evelyn', 'gilliam', 'jedi', 'historian', 'embark', 'signal', 'jule', 'occup', 'fluid', 'healthi', 'undead', 'mcqueen', 'ol', 'clara', 'creek', 'spectacl', 'judd', 'sorrow', '1974', 'eleven', 'kent', 'neatli', 'constitut', 'luxuri', 'firmli', 'armstrong', 'replay', 'pronounc', 'lex', 'randolph', '1977', 'kazan', 'cecil', 'inaccuraci', 'undertak', 'jam', 'outright', 'palm', 'propheci', 'paula', 'truman', 'abound', 'goldblum', 'kiddi', 'galaxi', 'vignett', 'roar', 'antonio', 'sacrif', 'blur', 'spray', 'comprehens', 'unattract', 'cape', 'genet', 'miniseri', 'porter', 'lanc', 'unsuspect', 'tokyo', 'lauren', 'subtli', 'forgiven', 'ash', 'decapit', 'pioneer', 'id', 'walt', 'congratul', 'conan', '1985', 'knee', 'groan', 'miami', 'carmen', 'inclus', 'meal', 'bsg', 'rosario', 'aussi', 'vain', 'mum', 'fruit', 'comb', 'bait', 'poker', 'inaccur', 'sidewalk', 'curtain', 'pepper', 'basket', 'relentless', 'omin', 'detach', 'evan', 'casper', 'weaker', 'hostil', 'sparkl', 'masterson', 'victorian', 'turtl', 'weari', 'bach', 'motorcycl', 'frontal', 'scariest', 'optimist', 'ghetto', 'epitom', 'substanti', 'incorrect', 'vastli', 'bravo', 'macabr', 'asset', 'spill', 'growth', 'monti', 'handicap', '21st', 'modest', 'jill', 'rapidli', 'verg', 'orchestr', 'sophi', 'dubiou'])\n"
     ]
    }
   ],
   "source": [
    "# TODO: Use this space to determine the five most frequently appearing words in the training set.\n",
    "print(word_dict.keys())"
   ]
  },
  {
   "cell_type": "markdown",
   "metadata": {},
   "source": [
    "### Save `word_dict`\n",
    "\n",
    "Later on when we construct an endpoint which processes a submitted review we will need to make use of the `word_dict` which we have created. As such, we will save it to a file now for future use."
   ]
  },
  {
   "cell_type": "code",
   "execution_count": 15,
   "metadata": {},
   "outputs": [],
   "source": [
    "data_dir = '../data/pytorch' # The folder we will use for storing data\n",
    "if not os.path.exists(data_dir): # Make sure that the folder exists\n",
    "    os.makedirs(data_dir)"
   ]
  },
  {
   "cell_type": "code",
   "execution_count": 16,
   "metadata": {},
   "outputs": [],
   "source": [
    "with open(os.path.join(data_dir, 'word_dict.pkl'), \"wb\") as f:\n",
    "    pickle.dump(word_dict, f)"
   ]
  },
  {
   "cell_type": "markdown",
   "metadata": {},
   "source": [
    "### Transform the reviews\n",
    "\n",
    "Now that we have our word dictionary which allows us to transform the words appearing in the reviews into integers, it is time to make use of it and convert our reviews to their integer sequence representation, making sure to pad or truncate to a fixed length, which in our case is `500`."
   ]
  },
  {
   "cell_type": "code",
   "execution_count": 17,
   "metadata": {},
   "outputs": [],
   "source": [
    "def convert_and_pad(word_dict, sentence, pad=500):\n",
    "    NOWORD = 0 # We will use 0 to represent the 'no word' category\n",
    "    INFREQ = 1 # and we use 1 to represent the infrequent words, i.e., words not appearing in word_dict\n",
    "    \n",
    "    working_sentence = [NOWORD] * pad\n",
    "    \n",
    "    for word_index, word in enumerate(sentence[:pad]):\n",
    "        if word in word_dict:\n",
    "            working_sentence[word_index] = word_dict[word]\n",
    "        else:\n",
    "            working_sentence[word_index] = INFREQ\n",
    "            \n",
    "    return working_sentence, min(len(sentence), pad)\n",
    "\n",
    "def convert_and_pad_data(word_dict, data, pad=500):\n",
    "    result = []\n",
    "    lengths = []\n",
    "    \n",
    "    for sentence in data:\n",
    "        converted, leng = convert_and_pad(word_dict, sentence, pad)\n",
    "        result.append(converted)\n",
    "        lengths.append(leng)\n",
    "        \n",
    "    return np.array(result), np.array(lengths)"
   ]
  },
  {
   "cell_type": "code",
   "execution_count": 18,
   "metadata": {},
   "outputs": [],
   "source": [
    "train_X, train_X_len = convert_and_pad_data(word_dict, train_X)\n",
    "test_X, test_X_len = convert_and_pad_data(word_dict, test_X)"
   ]
  },
  {
   "cell_type": "markdown",
   "metadata": {},
   "source": [
    "As a quick check to make sure that things are working as intended, check to see what one of the reviews in the training set looks like after having been processeed. Does this look reasonable? What is the length of a review in the training set?"
   ]
  },
  {
   "cell_type": "code",
   "execution_count": 19,
   "metadata": {},
   "outputs": [
    {
     "name": "stdout",
     "output_type": "stream",
     "text": [
      "[   1 1716 4909   54  577  330    1 2075  587   68  152  996   87 2852\n",
      "  192  502  897  216    9 4909    7  360  144    2  204    4  101 4909\n",
      " 3440  402 1032  323  972 1800    1    1   89  493  246    5    9    2\n",
      " 4909  787 1899 1247    9  188    1 3666  290  123   89   39  308   69\n",
      "    1  362  990   36    2   68 1097    9 1130  127   80 2952   13  117\n",
      "  989  136 3030  101    2  308  532  122    1   13  332   54 1370  270\n",
      "   21  909   42  239    2  115  163  108   41   46 3356    9   15   58\n",
      "  944  168  120 1192  481  136  596  101    2  270   36 2062 1891  306\n",
      "  380 1110 1544  155 1769    9  419  144   41  431 2896   87 1849  107\n",
      "   55 1571  435   98   54  178  812  270   36   48  281  380    2 1697\n",
      "  383  192  460  256   61 1193 4287  782  581    9  753  192  139 2172\n",
      "  246    9  133   62    0    0    0    0    0    0    0    0    0    0\n",
      "    0    0    0    0    0    0    0    0    0    0    0    0    0    0\n",
      "    0    0    0    0    0    0    0    0    0    0    0    0    0    0\n",
      "    0    0    0    0    0    0    0    0    0    0    0    0    0    0\n",
      "    0    0    0    0    0    0    0    0    0    0    0    0    0    0\n",
      "    0    0    0    0    0    0    0    0    0    0    0    0    0    0\n",
      "    0    0    0    0    0    0    0    0    0    0    0    0    0    0\n",
      "    0    0    0    0    0    0    0    0    0    0    0    0    0    0\n",
      "    0    0    0    0    0    0    0    0    0    0    0    0    0    0\n",
      "    0    0    0    0    0    0    0    0    0    0    0    0    0    0\n",
      "    0    0    0    0    0    0    0    0    0    0    0    0    0    0\n",
      "    0    0    0    0    0    0    0    0    0    0    0    0    0    0\n",
      "    0    0    0    0    0    0    0    0    0    0    0    0    0    0\n",
      "    0    0    0    0    0    0    0    0    0    0    0    0    0    0\n",
      "    0    0    0    0    0    0    0    0    0    0    0    0    0    0\n",
      "    0    0    0    0    0    0    0    0    0    0    0    0    0    0\n",
      "    0    0    0    0    0    0    0    0    0    0    0    0    0    0\n",
      "    0    0    0    0    0    0    0    0    0    0    0    0    0    0\n",
      "    0    0    0    0    0    0    0    0    0    0    0    0    0    0\n",
      "    0    0    0    0    0    0    0    0    0    0    0    0    0    0\n",
      "    0    0    0    0    0    0    0    0    0    0    0    0    0    0\n",
      "    0    0    0    0    0    0    0    0    0    0    0    0    0    0\n",
      "    0    0    0    0    0    0    0    0    0    0    0    0    0    0\n",
      "    0    0    0    0    0    0    0    0    0    0    0    0    0    0\n",
      "    0    0    0    0    0    0    0    0    0    0]\n",
      "500\n"
     ]
    }
   ],
   "source": [
    "# Use this cell to examine one of the processed reviews to make sure everything is working as intended.\n",
    "print(train_X[10])\n",
    "print(len(train_X[10]))"
   ]
  },
  {
   "cell_type": "markdown",
   "metadata": {},
   "source": [
    "**Question:** In the cells above we use the `preprocess_data` and `convert_and_pad_data` methods to process both the training and testing set. Why or why not might this be a problem?"
   ]
  },
  {
   "cell_type": "markdown",
   "metadata": {},
   "source": [
    "**Answer:** There is no issue as this preprocessing does not result in biases that can affect model training later."
   ]
  },
  {
   "cell_type": "markdown",
   "metadata": {},
   "source": [
    "## Step 3: Upload the data to S3\n",
    "\n",
    "As in the XGBoost notebook, we will need to upload the training dataset to S3 in order for our training code to access it. For now we will save it locally and we will upload to S3 later on.\n",
    "\n",
    "### Save the processed training dataset locally\n",
    "\n",
    "It is important to note the format of the data that we are saving as we will need to know it when we write the training code. In our case, each row of the dataset has the form `label`, `length`, `review[500]` where `review[500]` is a sequence of `500` integers representing the words in the review."
   ]
  },
  {
   "cell_type": "code",
   "execution_count": 20,
   "metadata": {},
   "outputs": [],
   "source": [
    "import pandas as pd\n",
    "    \n",
    "pd.concat([pd.DataFrame(train_y), pd.DataFrame(train_X_len), pd.DataFrame(train_X)], axis=1) \\\n",
    "        .to_csv(os.path.join(data_dir, 'train.csv'), header=False, index=False)"
   ]
  },
  {
   "cell_type": "markdown",
   "metadata": {},
   "source": [
    "### Uploading the training data\n",
    "\n",
    "\n",
    "Next, we need to upload the training data to the SageMaker default S3 bucket so that we can provide access to it while training our model."
   ]
  },
  {
   "cell_type": "code",
   "execution_count": 21,
   "metadata": {},
   "outputs": [],
   "source": [
    "import sagemaker\n",
    "\n",
    "sagemaker_session = sagemaker.Session()\n",
    "\n",
    "bucket = sagemaker_session.default_bucket()\n",
    "prefix = 'sagemaker/sentiment_rnn'\n",
    "\n",
    "role = sagemaker.get_execution_role()"
   ]
  },
  {
   "cell_type": "code",
   "execution_count": 22,
   "metadata": {},
   "outputs": [],
   "source": [
    "input_data = sagemaker_session.upload_data(path=data_dir, bucket=bucket, key_prefix=prefix)"
   ]
  },
  {
   "cell_type": "markdown",
   "metadata": {},
   "source": [
    "**NOTE:** The cell above uploads the entire contents of our data directory. This includes the `word_dict.pkl` file. This is fortunate as we will need this later on when we create an endpoint that accepts an arbitrary review. For now, we will just take note of the fact that it resides in the data directory (and so also in the S3 training bucket) and that we will need to make sure it gets saved in the model directory."
   ]
  },
  {
   "cell_type": "markdown",
   "metadata": {},
   "source": [
    "## Step 4: Build and Train the PyTorch Model\n",
    "\n",
    "In the XGBoost notebook we discussed what a model is in the SageMaker framework. In particular, a model comprises three objects\n",
    "\n",
    " - Model Artifacts,\n",
    " - Training Code, and\n",
    " - Inference Code,\n",
    " \n",
    "each of which interact with one another. In the XGBoost example we used training and inference code that was provided by Amazon. Here we will still be using containers provided by Amazon with the added benefit of being able to include our own custom code.\n",
    "\n",
    "We will start by implementing our own neural network in PyTorch along with a training script. For the purposes of this project we have provided the necessary model object in the `model.py` file, inside of the `train` folder. You can see the provided implementation by running the cell below."
   ]
  },
  {
   "cell_type": "code",
   "execution_count": 23,
   "metadata": {},
   "outputs": [
    {
     "name": "stdout",
     "output_type": "stream",
     "text": [
      "\u001b[34mimport\u001b[39;49;00m \u001b[04m\u001b[36mtorch.nn\u001b[39;49;00m \u001b[34mas\u001b[39;49;00m \u001b[04m\u001b[36mnn\u001b[39;49;00m\r\n",
      "\r\n",
      "\u001b[34mclass\u001b[39;49;00m \u001b[04m\u001b[32mLSTMClassifier\u001b[39;49;00m(nn.Module):\r\n",
      "    \u001b[33m\"\"\"\u001b[39;49;00m\r\n",
      "\u001b[33m    This is the simple RNN model we will be using to perform Sentiment Analysis.\u001b[39;49;00m\r\n",
      "\u001b[33m    \"\"\"\u001b[39;49;00m\r\n",
      "\r\n",
      "    \u001b[34mdef\u001b[39;49;00m \u001b[32m__init__\u001b[39;49;00m(\u001b[36mself\u001b[39;49;00m, embedding_dim, hidden_dim, vocab_size):\r\n",
      "        \u001b[33m\"\"\"\u001b[39;49;00m\r\n",
      "\u001b[33m        Initialize the model by settingg up the various layers.\u001b[39;49;00m\r\n",
      "\u001b[33m        \"\"\"\u001b[39;49;00m\r\n",
      "        \u001b[36msuper\u001b[39;49;00m(LSTMClassifier, \u001b[36mself\u001b[39;49;00m).\u001b[32m__init__\u001b[39;49;00m()\r\n",
      "\r\n",
      "        \u001b[36mself\u001b[39;49;00m.embedding = nn.Embedding(vocab_size, embedding_dim, padding_idx=\u001b[34m0\u001b[39;49;00m)\r\n",
      "        \u001b[36mself\u001b[39;49;00m.lstm = nn.LSTM(embedding_dim, hidden_dim)\r\n",
      "        \u001b[36mself\u001b[39;49;00m.dense = nn.Linear(in_features=hidden_dim, out_features=\u001b[34m1\u001b[39;49;00m)\r\n",
      "        \u001b[36mself\u001b[39;49;00m.sig = nn.Sigmoid()\r\n",
      "        \r\n",
      "        \u001b[36mself\u001b[39;49;00m.word_dict = \u001b[36mNone\u001b[39;49;00m\r\n",
      "\r\n",
      "    \u001b[34mdef\u001b[39;49;00m \u001b[32mforward\u001b[39;49;00m(\u001b[36mself\u001b[39;49;00m, x):\r\n",
      "        \u001b[33m\"\"\"\u001b[39;49;00m\r\n",
      "\u001b[33m        Perform a forward pass of our model on some input.\u001b[39;49;00m\r\n",
      "\u001b[33m        \"\"\"\u001b[39;49;00m\r\n",
      "        x = x.t()\r\n",
      "        lengths = x[\u001b[34m0\u001b[39;49;00m,:]\r\n",
      "        reviews = x[\u001b[34m1\u001b[39;49;00m:,:]\r\n",
      "        embeds = \u001b[36mself\u001b[39;49;00m.embedding(reviews)\r\n",
      "        lstm_out, _ = \u001b[36mself\u001b[39;49;00m.lstm(embeds)\r\n",
      "        out = \u001b[36mself\u001b[39;49;00m.dense(lstm_out)\r\n",
      "        out = out[lengths - \u001b[34m1\u001b[39;49;00m, \u001b[36mrange\u001b[39;49;00m(\u001b[36mlen\u001b[39;49;00m(lengths))]\r\n",
      "        \u001b[34mreturn\u001b[39;49;00m \u001b[36mself\u001b[39;49;00m.sig(out.squeeze())\r\n"
     ]
    }
   ],
   "source": [
    "!pygmentize train/model.py"
   ]
  },
  {
   "cell_type": "markdown",
   "metadata": {},
   "source": [
    "The important takeaway from the implementation provided is that there are three parameters that we may wish to tweak to improve the performance of our model. These are the embedding dimension, the hidden dimension and the size of the vocabulary. We will likely want to make these parameters configurable in the training script so that if we wish to modify them we do not need to modify the script itself. We will see how to do this later on. To start we will write some of the training code in the notebook so that we can more easily diagnose any issues that arise.\n",
    "\n",
    "First we will load a small portion of the training data set to use as a sample. It would be very time consuming to try and train the model completely in the notebook as we do not have access to a gpu and the compute instance that we are using is not particularly powerful. However, we can work on a small bit of the data to get a feel for how our training script is behaving."
   ]
  },
  {
   "cell_type": "code",
   "execution_count": 24,
   "metadata": {},
   "outputs": [],
   "source": [
    "import torch\n",
    "import torch.utils.data\n",
    "\n",
    "# Read in only the first 250 rows\n",
    "train_sample = pd.read_csv(os.path.join(data_dir, 'train.csv'), header=None, names=None, nrows=250)\n",
    "\n",
    "# Turn the input pandas dataframe into tensors\n",
    "train_sample_y = torch.from_numpy(train_sample[[0]].values).float().squeeze()\n",
    "train_sample_X = torch.from_numpy(train_sample.drop([0], axis=1).values).long()\n",
    "\n",
    "# Build the dataset\n",
    "train_sample_ds = torch.utils.data.TensorDataset(train_sample_X, train_sample_y)\n",
    "# Build the dataloader\n",
    "train_sample_dl = torch.utils.data.DataLoader(train_sample_ds, batch_size=50)"
   ]
  },
  {
   "cell_type": "markdown",
   "metadata": {},
   "source": [
    "### (TODO) Writing the training method\n",
    "\n",
    "Next we need to write the training code itself. This should be very similar to training methods that you have written before to train PyTorch models. We will leave any difficult aspects such as model saving / loading and parameter loading until a little later."
   ]
  },
  {
   "cell_type": "code",
   "execution_count": 25,
   "metadata": {},
   "outputs": [],
   "source": [
    "def train(model, train_loader, epochs, optimizer, loss_fn, device):\n",
    "    for epoch in range(1, epochs + 1):\n",
    "        model.train()\n",
    "        total_loss = 0\n",
    "        for batch in train_loader:         \n",
    "            batch_X, batch_y = batch\n",
    "            \n",
    "            batch_X = batch_X.to(device)\n",
    "            batch_y = batch_y.to(device)\n",
    "            \n",
    "            # TODO: Complete this train method to train the model provided.\n",
    "            optimizer.zero_grad()\n",
    "            out = model.forward(batch_X)\n",
    "            loss = loss_fn(out, batch_y)\n",
    "            loss.backward()\n",
    "            optimizer.step()\n",
    "            total_loss += loss.data.item()\n",
    "        print(\"Epoch: {}, BCELoss: {}\".format(epoch, total_loss / len(train_loader)))"
   ]
  },
  {
   "cell_type": "markdown",
   "metadata": {},
   "source": [
    "Supposing we have the training method above, we will test that it is working by writing a bit of code in the notebook that executes our training method on the small sample training set that we loaded earlier. The reason for doing this in the notebook is so that we have an opportunity to fix any errors that arise early when they are easier to diagnose."
   ]
  },
  {
   "cell_type": "code",
   "execution_count": 26,
   "metadata": {},
   "outputs": [
    {
     "name": "stdout",
     "output_type": "stream",
     "text": [
      "Epoch: 1, BCELoss: 0.6950198769569397\n",
      "Epoch: 2, BCELoss: 0.6837814688682556\n",
      "Epoch: 3, BCELoss: 0.6738502264022828\n",
      "Epoch: 4, BCELoss: 0.6628051042556763\n",
      "Epoch: 5, BCELoss: 0.6491668343544006\n"
     ]
    }
   ],
   "source": [
    "import torch.optim as optim\n",
    "from train.model import LSTMClassifier\n",
    "\n",
    "device = torch.device(\"cuda\" if torch.cuda.is_available() else \"cpu\")\n",
    "model = LSTMClassifier(32, 100, 5000).to(device)\n",
    "optimizer = optim.Adam(model.parameters())\n",
    "loss_fn = torch.nn.BCELoss()\n",
    "\n",
    "train(model, train_sample_dl, 5, optimizer, loss_fn, device)"
   ]
  },
  {
   "cell_type": "markdown",
   "metadata": {},
   "source": [
    "In order to construct a PyTorch model using SageMaker we must provide SageMaker with a training script. We may optionally include a directory which will be copied to the container and from which our training code will be run. When the training container is executed it will check the uploaded directory (if there is one) for a `requirements.txt` file and install any required Python libraries, after which the training script will be run."
   ]
  },
  {
   "cell_type": "markdown",
   "metadata": {},
   "source": [
    "### (TODO) Training the model\n",
    "\n",
    "When a PyTorch model is constructed in SageMaker, an entry point must be specified. This is the Python file which will be executed when the model is trained. Inside of the `train` directory is a file called `train.py` which has been provided and which contains most of the necessary code to train our model. The only thing that is missing is the implementation of the `train()` method which you wrote earlier in this notebook.\n",
    "\n",
    "**TODO**: Copy the `train()` method written above and paste it into the `train/train.py` file where required.\n",
    "\n",
    "The way that SageMaker passes hyperparameters to the training script is by way of arguments. These arguments can then be parsed and used in the training script. To see how this is done take a look at the provided `train/train.py` file."
   ]
  },
  {
   "cell_type": "code",
   "execution_count": 33,
   "metadata": {},
   "outputs": [],
   "source": [
    "from sagemaker.pytorch import PyTorch\n",
    "\n",
    "estimator = PyTorch(entry_point=\"train.py\",\n",
    "                    source_dir=\"train\",\n",
    "                    role=role,\n",
    "                    framework_version='0.4.0',\n",
    "                    train_instance_count=1,\n",
    "                    train_instance_type='ml.m4.xlarge',\n",
    "                    hyperparameters={\n",
    "                        'epochs': 10,\n",
    "                        'hidden_dim': 200,\n",
    "                    })"
   ]
  },
  {
   "cell_type": "code",
   "execution_count": null,
   "metadata": {},
   "outputs": [
    {
     "name": "stdout",
     "output_type": "stream",
     "text": [
      "2020-02-25 23:59:45 Starting - Starting the training job...\n",
      "2020-02-25 23:59:47 Starting - Launching requested ML instances...\n",
      "2020-02-26 00:00:46 Starting - Preparing the instances for training......\n",
      "2020-02-26 00:01:43 Downloading - Downloading input data...\n",
      "2020-02-26 00:02:12 Training - Downloading the training image..\u001b[34mbash: cannot set terminal process group (-1): Inappropriate ioctl for device\u001b[0m\n",
      "\u001b[34mbash: no job control in this shell\u001b[0m\n",
      "\u001b[34m2020-02-26 00:02:26,961 sagemaker-containers INFO     Imported framework sagemaker_pytorch_container.training\u001b[0m\n",
      "\u001b[34m2020-02-26 00:02:26,963 sagemaker-containers INFO     No GPUs detected (normal if no gpus installed)\u001b[0m\n",
      "\u001b[34m2020-02-26 00:02:26,976 sagemaker_pytorch_container.training INFO     Block until all host DNS lookups succeed.\u001b[0m\n",
      "\u001b[34m2020-02-26 00:02:26,980 sagemaker_pytorch_container.training INFO     Invoking user training script.\u001b[0m\n",
      "\u001b[34m2020-02-26 00:02:27,199 sagemaker-containers INFO     Module train does not provide a setup.py. \u001b[0m\n",
      "\u001b[34mGenerating setup.py\u001b[0m\n",
      "\u001b[34m2020-02-26 00:02:27,199 sagemaker-containers INFO     Generating setup.cfg\u001b[0m\n",
      "\u001b[34m2020-02-26 00:02:27,200 sagemaker-containers INFO     Generating MANIFEST.in\u001b[0m\n",
      "\u001b[34m2020-02-26 00:02:27,200 sagemaker-containers INFO     Installing module with the following command:\u001b[0m\n",
      "\u001b[34m/usr/bin/python -m pip install -U . -r requirements.txt\u001b[0m\n",
      "\u001b[34mProcessing /opt/ml/code\u001b[0m\n",
      "\u001b[34mCollecting pandas (from -r requirements.txt (line 1))\u001b[0m\n",
      "\u001b[34m  Downloading https://files.pythonhosted.org/packages/74/24/0cdbf8907e1e3bc5a8da03345c23cbed7044330bb8f73bb12e711a640a00/pandas-0.24.2-cp35-cp35m-manylinux1_x86_64.whl (10.0MB)\u001b[0m\n",
      "\u001b[34mCollecting numpy (from -r requirements.txt (line 2))\n",
      "  Downloading https://files.pythonhosted.org/packages/52/e6/1715e592ef47f28f3f50065322423bb75619ed2f7c24be86380ecc93503c/numpy-1.18.1-cp35-cp35m-manylinux1_x86_64.whl (19.9MB)\u001b[0m\n",
      "\u001b[34mCollecting nltk (from -r requirements.txt (line 3))\n",
      "  Downloading https://files.pythonhosted.org/packages/f6/1d/d925cfb4f324ede997f6d47bea4d9babba51b49e87a767c170b77005889d/nltk-3.4.5.zip (1.5MB)\u001b[0m\n",
      "\u001b[34mCollecting beautifulsoup4 (from -r requirements.txt (line 4))\u001b[0m\n",
      "\u001b[34m  Downloading https://files.pythonhosted.org/packages/cb/a1/c698cf319e9cfed6b17376281bd0efc6bfc8465698f54170ef60a485ab5d/beautifulsoup4-4.8.2-py3-none-any.whl (106kB)\u001b[0m\n",
      "\u001b[34mCollecting html5lib (from -r requirements.txt (line 5))\n",
      "  Downloading https://files.pythonhosted.org/packages/a5/62/bbd2be0e7943ec8504b517e62bab011b4946e1258842bc159e5dfde15b96/html5lib-1.0.1-py2.py3-none-any.whl (117kB)\u001b[0m\n",
      "\u001b[34mCollecting pytz>=2011k (from pandas->-r requirements.txt (line 1))\n",
      "  Downloading https://files.pythonhosted.org/packages/e7/f9/f0b53f88060247251bf481fa6ea62cd0d25bf1b11a87888e53ce5b7c8ad2/pytz-2019.3-py2.py3-none-any.whl (509kB)\u001b[0m\n",
      "\u001b[34mRequirement already satisfied, skipping upgrade: python-dateutil>=2.5.0 in /usr/local/lib/python3.5/dist-packages (from pandas->-r requirements.txt (line 1)) (2.7.5)\u001b[0m\n",
      "\u001b[34mRequirement already satisfied, skipping upgrade: six in /usr/local/lib/python3.5/dist-packages (from nltk->-r requirements.txt (line 3)) (1.11.0)\u001b[0m\n",
      "\u001b[34mCollecting soupsieve>=1.2 (from beautifulsoup4->-r requirements.txt (line 4))\n",
      "  Downloading https://files.pythonhosted.org/packages/05/cf/ea245e52f55823f19992447b008bcbb7f78efc5960d77f6c34b5b45b36dd/soupsieve-2.0-py2.py3-none-any.whl\u001b[0m\n",
      "\u001b[34mCollecting webencodings (from html5lib->-r requirements.txt (line 5))\n",
      "  Downloading https://files.pythonhosted.org/packages/f4/24/2a3e3df732393fed8b3ebf2ec078f05546de641fe1b667ee316ec1dcf3b7/webencodings-0.5.1-py2.py3-none-any.whl\u001b[0m\n",
      "\u001b[34mBuilding wheels for collected packages: nltk, train\n",
      "  Running setup.py bdist_wheel for nltk: started\u001b[0m\n",
      "\u001b[34m  Running setup.py bdist_wheel for nltk: finished with status 'done'\n",
      "  Stored in directory: /root/.cache/pip/wheels/96/86/f6/68ab24c23f207c0077381a5e3904b2815136b879538a24b483\n",
      "  Running setup.py bdist_wheel for train: started\n",
      "  Running setup.py bdist_wheel for train: finished with status 'done'\n",
      "  Stored in directory: /tmp/pip-ephem-wheel-cache-h3a7d884/wheels/35/24/16/37574d11bf9bde50616c67372a334f94fa8356bc7164af8ca3\u001b[0m\n",
      "\u001b[34mSuccessfully built nltk train\u001b[0m\n",
      "\u001b[34mInstalling collected packages: numpy, pytz, pandas, nltk, soupsieve, beautifulsoup4, webencodings, html5lib, train\n",
      "  Found existing installation: numpy 1.15.4\n",
      "    Uninstalling numpy-1.15.4:\u001b[0m\n",
      "\u001b[34m      Successfully uninstalled numpy-1.15.4\u001b[0m\n",
      "\n",
      "2020-02-26 00:02:25 Training - Training image download completed. Training in progress.\u001b[34mSuccessfully installed beautifulsoup4-4.8.2 html5lib-1.0.1 nltk-3.4.5 numpy-1.18.1 pandas-0.24.2 pytz-2019.3 soupsieve-2.0 train-1.0.0 webencodings-0.5.1\u001b[0m\n",
      "\u001b[34mYou are using pip version 18.1, however version 20.0.2 is available.\u001b[0m\n",
      "\u001b[34mYou should consider upgrading via the 'pip install --upgrade pip' command.\u001b[0m\n",
      "\u001b[34m2020-02-26 00:02:40,386 sagemaker-containers INFO     No GPUs detected (normal if no gpus installed)\u001b[0m\n",
      "\u001b[34m2020-02-26 00:02:40,400 sagemaker-containers INFO     Invoking user script\n",
      "\u001b[0m\n",
      "\u001b[34mTraining Env:\n",
      "\u001b[0m\n",
      "\u001b[34m{\n",
      "    \"num_cpus\": 4,\n",
      "    \"network_interface_name\": \"eth0\",\n",
      "    \"log_level\": 20,\n",
      "    \"hosts\": [\n",
      "        \"algo-1\"\n",
      "    ],\n",
      "    \"current_host\": \"algo-1\",\n",
      "    \"module_dir\": \"s3://sagemaker-us-east-2-167102735877/sagemaker-pytorch-2020-02-25-23-59-45-334/source/sourcedir.tar.gz\",\n",
      "    \"job_name\": \"sagemaker-pytorch-2020-02-25-23-59-45-334\",\n",
      "    \"input_config_dir\": \"/opt/ml/input/config\",\n",
      "    \"output_data_dir\": \"/opt/ml/output/data\",\n",
      "    \"additional_framework_parameters\": {},\n",
      "    \"output_intermediate_dir\": \"/opt/ml/output/intermediate\",\n",
      "    \"num_gpus\": 0,\n",
      "    \"output_dir\": \"/opt/ml/output\",\n",
      "    \"user_entry_point\": \"train.py\",\n",
      "    \"hyperparameters\": {\n",
      "        \"hidden_dim\": 200,\n",
      "        \"epochs\": 10\n",
      "    },\n",
      "    \"input_dir\": \"/opt/ml/input\",\n",
      "    \"resource_config\": {\n",
      "        \"hosts\": [\n",
      "            \"algo-1\"\n",
      "        ],\n",
      "        \"network_interface_name\": \"eth0\",\n",
      "        \"current_host\": \"algo-1\"\n",
      "    },\n",
      "    \"channel_input_dirs\": {\n",
      "        \"training\": \"/opt/ml/input/data/training\"\n",
      "    },\n",
      "    \"model_dir\": \"/opt/ml/model\",\n",
      "    \"framework_module\": \"sagemaker_pytorch_container.training:main\",\n",
      "    \"module_name\": \"train\",\n",
      "    \"input_data_config\": {\n",
      "        \"training\": {\n",
      "            \"RecordWrapperType\": \"None\",\n",
      "            \"TrainingInputMode\": \"File\",\n",
      "            \"S3DistributionType\": \"FullyReplicated\"\n",
      "        }\n",
      "    }\u001b[0m\n",
      "\u001b[34m}\n",
      "\u001b[0m\n",
      "\u001b[34mEnvironment variables:\n",
      "\u001b[0m\n",
      "\u001b[34mSM_INPUT_DATA_CONFIG={\"training\":{\"RecordWrapperType\":\"None\",\"S3DistributionType\":\"FullyReplicated\",\"TrainingInputMode\":\"File\"}}\u001b[0m\n",
      "\u001b[34mSM_CURRENT_HOST=algo-1\u001b[0m\n",
      "\u001b[34mSM_FRAMEWORK_MODULE=sagemaker_pytorch_container.training:main\u001b[0m\n",
      "\u001b[34mSM_HP_HIDDEN_DIM=200\u001b[0m\n",
      "\u001b[34mSM_CHANNEL_TRAINING=/opt/ml/input/data/training\u001b[0m\n",
      "\u001b[34mSM_CHANNELS=[\"training\"]\u001b[0m\n",
      "\u001b[34mSM_FRAMEWORK_PARAMS={}\u001b[0m\n",
      "\u001b[34mSM_HP_EPOCHS=10\u001b[0m\n",
      "\u001b[34mSM_OUTPUT_INTERMEDIATE_DIR=/opt/ml/output/intermediate\u001b[0m\n",
      "\u001b[34mSM_LOG_LEVEL=20\u001b[0m\n",
      "\u001b[34mSM_MODEL_DIR=/opt/ml/model\u001b[0m\n",
      "\u001b[34mSM_TRAINING_ENV={\"additional_framework_parameters\":{},\"channel_input_dirs\":{\"training\":\"/opt/ml/input/data/training\"},\"current_host\":\"algo-1\",\"framework_module\":\"sagemaker_pytorch_container.training:main\",\"hosts\":[\"algo-1\"],\"hyperparameters\":{\"epochs\":10,\"hidden_dim\":200},\"input_config_dir\":\"/opt/ml/input/config\",\"input_data_config\":{\"training\":{\"RecordWrapperType\":\"None\",\"S3DistributionType\":\"FullyReplicated\",\"TrainingInputMode\":\"File\"}},\"input_dir\":\"/opt/ml/input\",\"job_name\":\"sagemaker-pytorch-2020-02-25-23-59-45-334\",\"log_level\":20,\"model_dir\":\"/opt/ml/model\",\"module_dir\":\"s3://sagemaker-us-east-2-167102735877/sagemaker-pytorch-2020-02-25-23-59-45-334/source/sourcedir.tar.gz\",\"module_name\":\"train\",\"network_interface_name\":\"eth0\",\"num_cpus\":4,\"num_gpus\":0,\"output_data_dir\":\"/opt/ml/output/data\",\"output_dir\":\"/opt/ml/output\",\"output_intermediate_dir\":\"/opt/ml/output/intermediate\",\"resource_config\":{\"current_host\":\"algo-1\",\"hosts\":[\"algo-1\"],\"network_interface_name\":\"eth0\"},\"user_entry_point\":\"train.py\"}\u001b[0m\n",
      "\u001b[34mSM_NUM_GPUS=0\u001b[0m\n",
      "\u001b[34mSM_NUM_CPUS=4\u001b[0m\n",
      "\u001b[34mSM_OUTPUT_DATA_DIR=/opt/ml/output/data\u001b[0m\n",
      "\u001b[34mSM_NETWORK_INTERFACE_NAME=eth0\u001b[0m\n",
      "\u001b[34mPYTHONPATH=/usr/local/bin:/usr/lib/python35.zip:/usr/lib/python3.5:/usr/lib/python3.5/plat-x86_64-linux-gnu:/usr/lib/python3.5/lib-dynload:/usr/local/lib/python3.5/dist-packages:/usr/lib/python3/dist-packages\u001b[0m\n",
      "\u001b[34mSM_INPUT_CONFIG_DIR=/opt/ml/input/config\u001b[0m\n",
      "\u001b[34mSM_MODULE_DIR=s3://sagemaker-us-east-2-167102735877/sagemaker-pytorch-2020-02-25-23-59-45-334/source/sourcedir.tar.gz\u001b[0m\n",
      "\u001b[34mSM_MODULE_NAME=train\u001b[0m\n",
      "\u001b[34mSM_RESOURCE_CONFIG={\"current_host\":\"algo-1\",\"hosts\":[\"algo-1\"],\"network_interface_name\":\"eth0\"}\u001b[0m\n",
      "\u001b[34mSM_OUTPUT_DIR=/opt/ml/output\u001b[0m\n",
      "\u001b[34mSM_HOSTS=[\"algo-1\"]\u001b[0m\n",
      "\u001b[34mSM_USER_ENTRY_POINT=train.py\u001b[0m\n",
      "\u001b[34mSM_INPUT_DIR=/opt/ml/input\u001b[0m\n",
      "\u001b[34mSM_HPS={\"epochs\":10,\"hidden_dim\":200}\u001b[0m\n",
      "\u001b[34mSM_USER_ARGS=[\"--epochs\",\"10\",\"--hidden_dim\",\"200\"]\n",
      "\u001b[0m\n",
      "\u001b[34mInvoking script with the following command:\n",
      "\u001b[0m\n",
      "\u001b[34m/usr/bin/python -m train --epochs 10 --hidden_dim 200\n",
      "\n",
      "\u001b[0m\n",
      "\u001b[34mUsing device cpu.\u001b[0m\n",
      "\u001b[34mGet train data loader.\u001b[0m\n",
      "\u001b[34mModel loaded with embedding_dim 32, hidden_dim 200, vocab_size 5000.\u001b[0m\n"
     ]
    },
    {
     "name": "stdout",
     "output_type": "stream",
     "text": [
      "\u001b[34mEpoch: 1, BCELoss: 0.6720046717293409\u001b[0m\n",
      "\u001b[34mEpoch: 2, BCELoss: 0.5934836955703034\u001b[0m\n",
      "\u001b[34mEpoch: 3, BCELoss: 0.506847123102266\u001b[0m\n",
      "\u001b[34mEpoch: 4, BCELoss: 0.5038794127045846\u001b[0m\n",
      "\u001b[34mEpoch: 5, BCELoss: 0.4410303204643483\u001b[0m\n",
      "\u001b[34mEpoch: 6, BCELoss: 0.4007993334410142\u001b[0m\n",
      "\u001b[34mEpoch: 7, BCELoss: 0.3776553419171547\u001b[0m\n",
      "\u001b[34mEpoch: 8, BCELoss: 0.3339658008546245\u001b[0m\n",
      "\u001b[34mEpoch: 9, BCELoss: 0.30866303675028745\u001b[0m\n",
      "\n",
      "2020-02-26 01:41:45 Uploading - Uploading generated training model\n",
      "2020-02-26 01:41:45 Completed - Training job completed\n",
      "\u001b[34mEpoch: 10, BCELoss: 0.300897620770396\u001b[0m\n",
      "\u001b[34m2020-02-26 01:41:38,384 sagemaker-containers INFO     Reporting training SUCCESS\u001b[0m\n",
      "Training seconds: 6002\n",
      "Billable seconds: 6002\n"
     ]
    }
   ],
   "source": [
    "estimator.fit({'training': input_data})"
   ]
  },
  {
   "cell_type": "markdown",
   "metadata": {},
   "source": [
    "## Step 5: Testing the model\n",
    "\n",
    "As mentioned at the top of this notebook, we will be testing this model by first deploying it and then sending the testing data to the deployed endpoint. We will do this so that we can make sure that the deployed model is working correctly.\n",
    "\n",
    "## Step 6: Deploy the model for testing\n",
    "\n",
    "Now that we have trained our model, we would like to test it to see how it performs. Currently our model takes input of the form `review_length, review[500]` where `review[500]` is a sequence of `500` integers which describe the words present in the review, encoded using `word_dict`. Fortunately for us, SageMaker provides built-in inference code for models with simple inputs such as this.\n",
    "\n",
    "There is one thing that we need to provide, however, and that is a function which loads the saved model. This function must be called `model_fn()` and takes as its only parameter a path to the directory where the model artifacts are stored. This function must also be present in the python file which we specified as the entry point. In our case the model loading function has been provided and so no changes need to be made.\n",
    "\n",
    "**NOTE**: When the built-in inference code is run it must import the `model_fn()` method from the `train.py` file. This is why the training code is wrapped in a main guard ( ie, `if __name__ == '__main__':` )\n",
    "\n",
    "Since we don't need to change anything in the code that was uploaded during training, we can simply deploy the current model as-is.\n",
    "\n",
    "**NOTE:** When deploying a model you are asking SageMaker to launch an compute instance that will wait for data to be sent to it. As a result, this compute instance will continue to run until *you* shut it down. This is important to know since the cost of a deployed endpoint depends on how long it has been running for.\n",
    "\n",
    "In other words **If you are no longer using a deployed endpoint, shut it down!**\n",
    "\n",
    "**TODO:** Deploy the trained model."
   ]
  },
  {
   "cell_type": "code",
   "execution_count": 37,
   "metadata": {},
   "outputs": [
    {
     "name": "stderr",
     "output_type": "stream",
     "text": [
      "Using already existing model: sagemaker-pytorch-2020-02-25-23-59-45-334\n"
     ]
    },
    {
     "ename": "ClientError",
     "evalue": "An error occurred (ValidationException) when calling the CreateEndpoint operation: Cannot create already existing endpoint \"arn:aws:sagemaker:us-east-2:167102735877:endpoint/sagemaker-pytorch-2020-02-25-23-59-45-334\".",
     "output_type": "error",
     "traceback": [
      "\u001b[0;31m---------------------------------------------------------------------------\u001b[0m",
      "\u001b[0;31mClientError\u001b[0m                               Traceback (most recent call last)",
      "\u001b[0;32m<ipython-input-37-5bbfacfa3709>\u001b[0m in \u001b[0;36m<module>\u001b[0;34m()\u001b[0m\n\u001b[1;32m      1\u001b[0m \u001b[0;31m# TODO: Deploy the trained model\u001b[0m\u001b[0;34m\u001b[0m\u001b[0;34m\u001b[0m\u001b[0m\n\u001b[0;32m----> 2\u001b[0;31m \u001b[0mpredictor\u001b[0m \u001b[0;34m=\u001b[0m \u001b[0mestimator\u001b[0m\u001b[0;34m.\u001b[0m\u001b[0mdeploy\u001b[0m\u001b[0;34m(\u001b[0m\u001b[0minitial_instance_count\u001b[0m \u001b[0;34m=\u001b[0m \u001b[0;36m1\u001b[0m\u001b[0;34m,\u001b[0m \u001b[0minstance_type\u001b[0m \u001b[0;34m=\u001b[0m \u001b[0;34m'ml.m4.xlarge'\u001b[0m\u001b[0;34m)\u001b[0m\u001b[0;34m\u001b[0m\u001b[0m\n\u001b[0m",
      "\u001b[0;32m~/anaconda3/envs/pytorch_p36/lib/python3.6/site-packages/sagemaker/estimator.py\u001b[0m in \u001b[0;36mdeploy\u001b[0;34m(self, initial_instance_count, instance_type, accelerator_type, endpoint_name, use_compiled_model, update_endpoint, wait, model_name, kms_key, data_capture_config, tags, **kwargs)\u001b[0m\n\u001b[1;32m    686\u001b[0m             \u001b[0mwait\u001b[0m\u001b[0;34m=\u001b[0m\u001b[0mwait\u001b[0m\u001b[0;34m,\u001b[0m\u001b[0;34m\u001b[0m\u001b[0m\n\u001b[1;32m    687\u001b[0m             \u001b[0mkms_key\u001b[0m\u001b[0;34m=\u001b[0m\u001b[0mkms_key\u001b[0m\u001b[0;34m,\u001b[0m\u001b[0;34m\u001b[0m\u001b[0m\n\u001b[0;32m--> 688\u001b[0;31m             \u001b[0mdata_capture_config\u001b[0m\u001b[0;34m=\u001b[0m\u001b[0mdata_capture_config\u001b[0m\u001b[0;34m,\u001b[0m\u001b[0;34m\u001b[0m\u001b[0m\n\u001b[0m\u001b[1;32m    689\u001b[0m         )\n\u001b[1;32m    690\u001b[0m \u001b[0;34m\u001b[0m\u001b[0m\n",
      "\u001b[0;32m~/anaconda3/envs/pytorch_p36/lib/python3.6/site-packages/sagemaker/model.py\u001b[0m in \u001b[0;36mdeploy\u001b[0;34m(self, initial_instance_count, instance_type, accelerator_type, endpoint_name, update_endpoint, tags, kms_key, wait, data_capture_config)\u001b[0m\n\u001b[1;32m    475\u001b[0m                 \u001b[0mkms_key\u001b[0m\u001b[0;34m=\u001b[0m\u001b[0mkms_key\u001b[0m\u001b[0;34m,\u001b[0m\u001b[0;34m\u001b[0m\u001b[0m\n\u001b[1;32m    476\u001b[0m                 \u001b[0mwait\u001b[0m\u001b[0;34m=\u001b[0m\u001b[0mwait\u001b[0m\u001b[0;34m,\u001b[0m\u001b[0;34m\u001b[0m\u001b[0m\n\u001b[0;32m--> 477\u001b[0;31m                 \u001b[0mdata_capture_config_dict\u001b[0m\u001b[0;34m=\u001b[0m\u001b[0mdata_capture_config_dict\u001b[0m\u001b[0;34m,\u001b[0m\u001b[0;34m\u001b[0m\u001b[0m\n\u001b[0m\u001b[1;32m    478\u001b[0m             )\n\u001b[1;32m    479\u001b[0m \u001b[0;34m\u001b[0m\u001b[0m\n",
      "\u001b[0;32m~/anaconda3/envs/pytorch_p36/lib/python3.6/site-packages/sagemaker/session.py\u001b[0m in \u001b[0;36mendpoint_from_production_variants\u001b[0;34m(self, name, production_variants, tags, kms_key, wait, data_capture_config_dict)\u001b[0m\n\u001b[1;32m   2847\u001b[0m \u001b[0;34m\u001b[0m\u001b[0m\n\u001b[1;32m   2848\u001b[0m             \u001b[0mself\u001b[0m\u001b[0;34m.\u001b[0m\u001b[0msagemaker_client\u001b[0m\u001b[0;34m.\u001b[0m\u001b[0mcreate_endpoint_config\u001b[0m\u001b[0;34m(\u001b[0m\u001b[0;34m**\u001b[0m\u001b[0mconfig_options\u001b[0m\u001b[0;34m)\u001b[0m\u001b[0;34m\u001b[0m\u001b[0m\n\u001b[0;32m-> 2849\u001b[0;31m         \u001b[0;32mreturn\u001b[0m \u001b[0mself\u001b[0m\u001b[0;34m.\u001b[0m\u001b[0mcreate_endpoint\u001b[0m\u001b[0;34m(\u001b[0m\u001b[0mendpoint_name\u001b[0m\u001b[0;34m=\u001b[0m\u001b[0mname\u001b[0m\u001b[0;34m,\u001b[0m \u001b[0mconfig_name\u001b[0m\u001b[0;34m=\u001b[0m\u001b[0mname\u001b[0m\u001b[0;34m,\u001b[0m \u001b[0mtags\u001b[0m\u001b[0;34m=\u001b[0m\u001b[0mtags\u001b[0m\u001b[0;34m,\u001b[0m \u001b[0mwait\u001b[0m\u001b[0;34m=\u001b[0m\u001b[0mwait\u001b[0m\u001b[0;34m)\u001b[0m\u001b[0;34m\u001b[0m\u001b[0m\n\u001b[0m\u001b[1;32m   2850\u001b[0m \u001b[0;34m\u001b[0m\u001b[0m\n\u001b[1;32m   2851\u001b[0m     \u001b[0;32mdef\u001b[0m \u001b[0mexpand_role\u001b[0m\u001b[0;34m(\u001b[0m\u001b[0mself\u001b[0m\u001b[0;34m,\u001b[0m \u001b[0mrole\u001b[0m\u001b[0;34m)\u001b[0m\u001b[0;34m:\u001b[0m\u001b[0;34m\u001b[0m\u001b[0m\n",
      "\u001b[0;32m~/anaconda3/envs/pytorch_p36/lib/python3.6/site-packages/sagemaker/session.py\u001b[0m in \u001b[0;36mcreate_endpoint\u001b[0;34m(self, endpoint_name, config_name, tags, wait)\u001b[0m\n\u001b[1;32m   2376\u001b[0m \u001b[0;34m\u001b[0m\u001b[0m\n\u001b[1;32m   2377\u001b[0m         self.sagemaker_client.create_endpoint(\n\u001b[0;32m-> 2378\u001b[0;31m             \u001b[0mEndpointName\u001b[0m\u001b[0;34m=\u001b[0m\u001b[0mendpoint_name\u001b[0m\u001b[0;34m,\u001b[0m \u001b[0mEndpointConfigName\u001b[0m\u001b[0;34m=\u001b[0m\u001b[0mconfig_name\u001b[0m\u001b[0;34m,\u001b[0m \u001b[0mTags\u001b[0m\u001b[0;34m=\u001b[0m\u001b[0mtags\u001b[0m\u001b[0;34m\u001b[0m\u001b[0m\n\u001b[0m\u001b[1;32m   2379\u001b[0m         )\n\u001b[1;32m   2380\u001b[0m         \u001b[0;32mif\u001b[0m \u001b[0mwait\u001b[0m\u001b[0;34m:\u001b[0m\u001b[0;34m\u001b[0m\u001b[0m\n",
      "\u001b[0;32m~/anaconda3/envs/pytorch_p36/lib/python3.6/site-packages/botocore/client.py\u001b[0m in \u001b[0;36m_api_call\u001b[0;34m(self, *args, **kwargs)\u001b[0m\n\u001b[1;32m    314\u001b[0m                     \"%s() only accepts keyword arguments.\" % py_operation_name)\n\u001b[1;32m    315\u001b[0m             \u001b[0;31m# The \"self\" in this scope is referring to the BaseClient.\u001b[0m\u001b[0;34m\u001b[0m\u001b[0;34m\u001b[0m\u001b[0m\n\u001b[0;32m--> 316\u001b[0;31m             \u001b[0;32mreturn\u001b[0m \u001b[0mself\u001b[0m\u001b[0;34m.\u001b[0m\u001b[0m_make_api_call\u001b[0m\u001b[0;34m(\u001b[0m\u001b[0moperation_name\u001b[0m\u001b[0;34m,\u001b[0m \u001b[0mkwargs\u001b[0m\u001b[0;34m)\u001b[0m\u001b[0;34m\u001b[0m\u001b[0m\n\u001b[0m\u001b[1;32m    317\u001b[0m \u001b[0;34m\u001b[0m\u001b[0m\n\u001b[1;32m    318\u001b[0m         \u001b[0m_api_call\u001b[0m\u001b[0;34m.\u001b[0m\u001b[0m__name__\u001b[0m \u001b[0;34m=\u001b[0m \u001b[0mstr\u001b[0m\u001b[0;34m(\u001b[0m\u001b[0mpy_operation_name\u001b[0m\u001b[0;34m)\u001b[0m\u001b[0;34m\u001b[0m\u001b[0m\n",
      "\u001b[0;32m~/anaconda3/envs/pytorch_p36/lib/python3.6/site-packages/botocore/client.py\u001b[0m in \u001b[0;36m_make_api_call\u001b[0;34m(self, operation_name, api_params)\u001b[0m\n\u001b[1;32m    624\u001b[0m             \u001b[0merror_code\u001b[0m \u001b[0;34m=\u001b[0m \u001b[0mparsed_response\u001b[0m\u001b[0;34m.\u001b[0m\u001b[0mget\u001b[0m\u001b[0;34m(\u001b[0m\u001b[0;34m\"Error\"\u001b[0m\u001b[0;34m,\u001b[0m \u001b[0;34m{\u001b[0m\u001b[0;34m}\u001b[0m\u001b[0;34m)\u001b[0m\u001b[0;34m.\u001b[0m\u001b[0mget\u001b[0m\u001b[0;34m(\u001b[0m\u001b[0;34m\"Code\"\u001b[0m\u001b[0;34m)\u001b[0m\u001b[0;34m\u001b[0m\u001b[0m\n\u001b[1;32m    625\u001b[0m             \u001b[0merror_class\u001b[0m \u001b[0;34m=\u001b[0m \u001b[0mself\u001b[0m\u001b[0;34m.\u001b[0m\u001b[0mexceptions\u001b[0m\u001b[0;34m.\u001b[0m\u001b[0mfrom_code\u001b[0m\u001b[0;34m(\u001b[0m\u001b[0merror_code\u001b[0m\u001b[0;34m)\u001b[0m\u001b[0;34m\u001b[0m\u001b[0m\n\u001b[0;32m--> 626\u001b[0;31m             \u001b[0;32mraise\u001b[0m \u001b[0merror_class\u001b[0m\u001b[0;34m(\u001b[0m\u001b[0mparsed_response\u001b[0m\u001b[0;34m,\u001b[0m \u001b[0moperation_name\u001b[0m\u001b[0;34m)\u001b[0m\u001b[0;34m\u001b[0m\u001b[0m\n\u001b[0m\u001b[1;32m    627\u001b[0m         \u001b[0;32melse\u001b[0m\u001b[0;34m:\u001b[0m\u001b[0;34m\u001b[0m\u001b[0m\n\u001b[1;32m    628\u001b[0m             \u001b[0;32mreturn\u001b[0m \u001b[0mparsed_response\u001b[0m\u001b[0;34m\u001b[0m\u001b[0m\n",
      "\u001b[0;31mClientError\u001b[0m: An error occurred (ValidationException) when calling the CreateEndpoint operation: Cannot create already existing endpoint \"arn:aws:sagemaker:us-east-2:167102735877:endpoint/sagemaker-pytorch-2020-02-25-23-59-45-334\"."
     ]
    }
   ],
   "source": [
    "# TODO: Deploy the trained model\n",
    "predictor = estimator.deploy(initial_instance_count = 1, instance_type = 'ml.m4.xlarge')\n"
   ]
  },
  {
   "cell_type": "markdown",
   "metadata": {},
   "source": [
    "## Step 7 - Use the model for testing\n",
    "\n",
    "Once deployed, we can read in the test data and send it off to our deployed model to get some results. Once we collect all of the results we can determine how accurate our model is."
   ]
  },
  {
   "cell_type": "code",
   "execution_count": 38,
   "metadata": {},
   "outputs": [],
   "source": [
    "test_X = pd.concat([pd.DataFrame(test_X_len), pd.DataFrame(test_X)], axis=1)"
   ]
  },
  {
   "cell_type": "code",
   "execution_count": 39,
   "metadata": {},
   "outputs": [],
   "source": [
    "# We split the data into chunks and send each chunk seperately, accumulating the results.\n",
    "\n",
    "def predict(data, rows=512):\n",
    "    split_array = np.array_split(data, int(data.shape[0] / float(rows) + 1))\n",
    "    predictions = np.array([])\n",
    "    for array in split_array:\n",
    "        predictions = np.append(predictions, predictor.predict(array))\n",
    "    \n",
    "    return predictions"
   ]
  },
  {
   "cell_type": "code",
   "execution_count": 40,
   "metadata": {},
   "outputs": [],
   "source": [
    "predictions = predict(test_X.values)\n",
    "predictions = [round(num) for num in predictions]"
   ]
  },
  {
   "cell_type": "code",
   "execution_count": 41,
   "metadata": {},
   "outputs": [
    {
     "data": {
      "text/plain": [
       "0.846"
      ]
     },
     "execution_count": 41,
     "metadata": {},
     "output_type": "execute_result"
    }
   ],
   "source": [
    "from sklearn.metrics import accuracy_score\n",
    "accuracy_score(test_y, predictions)"
   ]
  },
  {
   "cell_type": "markdown",
   "metadata": {},
   "source": [
    "**Question:** How does this model compare to the XGBoost model you created earlier? Why might these two models perform differently on this dataset? Which do *you* think is better for sentiment analysis?"
   ]
  },
  {
   "cell_type": "markdown",
   "metadata": {},
   "source": [
    "**Answer:** The performance of the two model is comparable. Since no hyperparameters tuning was performed here, we expect that this method is more suited for sentimental analysis. "
   ]
  },
  {
   "cell_type": "markdown",
   "metadata": {},
   "source": [
    "### (TODO) More testing\n",
    "\n",
    "We now have a trained model which has been deployed and which we can send processed reviews to and which returns the predicted sentiment. However, ultimately we would like to be able to send our model an unprocessed review. That is, we would like to send the review itself as a string. For example, suppose we wish to send the following review to our model."
   ]
  },
  {
   "cell_type": "code",
   "execution_count": 42,
   "metadata": {},
   "outputs": [],
   "source": [
    "test_review = 'The simplest pleasures in life are the best, and this film is one of them. Combining a rather basic storyline of love and adventure this movie transcends the usual weekend fair with wit and unmitigated charm.'"
   ]
  },
  {
   "cell_type": "markdown",
   "metadata": {},
   "source": [
    "The question we now need to answer is, how do we send this review to our model?\n",
    "\n",
    "Recall in the first section of this notebook we did a bunch of data processing to the IMDb dataset. In particular, we did two specific things to the provided reviews.\n",
    " - Removed any html tags and stemmed the input\n",
    " - Encoded the review as a sequence of integers using `word_dict`\n",
    " \n",
    "In order process the review we will need to repeat these two steps.\n",
    "\n",
    "**TODO**: Using the `review_to_words` and `convert_and_pad` methods from section one, convert `test_review` into a numpy array `test_data` suitable to send to our model. Remember that our model expects input of the form `review_length, review[500]`."
   ]
  },
  {
   "cell_type": "code",
   "execution_count": 45,
   "metadata": {},
   "outputs": [],
   "source": [
    "# TODO: Convert test_review into a form usable by the model and save the results in test_data\n",
    "test_data = review_to_words(test_review)\n",
    "test_data = [np.array(convert_and_pad(word_dict, test_data)[0])]"
   ]
  },
  {
   "cell_type": "markdown",
   "metadata": {},
   "source": [
    "Now that we have processed the review, we can send the resulting array to our model to predict the sentiment of the review."
   ]
  },
  {
   "cell_type": "code",
   "execution_count": 46,
   "metadata": {},
   "outputs": [
    {
     "data": {
      "text/plain": [
       "array(0.5028434, dtype=float32)"
      ]
     },
     "execution_count": 46,
     "metadata": {},
     "output_type": "execute_result"
    }
   ],
   "source": [
    "predictor.predict(test_data)"
   ]
  },
  {
   "cell_type": "markdown",
   "metadata": {},
   "source": [
    "Since the return value of our model is close to `1`, we can be certain that the review we submitted is positive."
   ]
  },
  {
   "cell_type": "markdown",
   "metadata": {},
   "source": [
    "### Delete the endpoint\n",
    "\n",
    "Of course, just like in the XGBoost notebook, once we've deployed an endpoint it continues to run until we tell it to shut down. Since we are done using our endpoint for now, we can delete it."
   ]
  },
  {
   "cell_type": "code",
   "execution_count": 47,
   "metadata": {},
   "outputs": [],
   "source": [
    "estimator.delete_endpoint()"
   ]
  },
  {
   "cell_type": "markdown",
   "metadata": {},
   "source": [
    "## Step 6 (again) - Deploy the model for the web app\n",
    "\n",
    "Now that we know that our model is working, it's time to create some custom inference code so that we can send the model a review which has not been processed and have it determine the sentiment of the review.\n",
    "\n",
    "As we saw above, by default the estimator which we created, when deployed, will use the entry script and directory which we provided when creating the model. However, since we now wish to accept a string as input and our model expects a processed review, we need to write some custom inference code.\n",
    "\n",
    "We will store the code that we write in the `serve` directory. Provided in this directory is the `model.py` file that we used to construct our model, a `utils.py` file which contains the `review_to_words` and `convert_and_pad` pre-processing functions which we used during the initial data processing, and `predict.py`, the file which will contain our custom inference code. Note also that `requirements.txt` is present which will tell SageMaker what Python libraries are required by our custom inference code.\n",
    "\n",
    "When deploying a PyTorch model in SageMaker, you are expected to provide four functions which the SageMaker inference container will use.\n",
    " - `model_fn`: This function is the same function that we used in the training script and it tells SageMaker how to load our model.\n",
    " - `input_fn`: This function receives the raw serialized input that has been sent to the model's endpoint and its job is to de-serialize and make the input available for the inference code.\n",
    " - `output_fn`: This function takes the output of the inference code and its job is to serialize this output and return it to the caller of the model's endpoint.\n",
    " - `predict_fn`: The heart of the inference script, this is where the actual prediction is done and is the function which you will need to complete.\n",
    "\n",
    "For the simple website that we are constructing during this project, the `input_fn` and `output_fn` methods are relatively straightforward. We only require being able to accept a string as input and we expect to return a single value as output. You might imagine though that in a more complex application the input or output may be image data or some other binary data which would require some effort to serialize.\n",
    "\n",
    "### (TODO) Writing inference code\n",
    "\n",
    "Before writing our custom inference code, we will begin by taking a look at the code which has been provided."
   ]
  },
  {
   "cell_type": "code",
   "execution_count": 48,
   "metadata": {},
   "outputs": [
    {
     "name": "stdout",
     "output_type": "stream",
     "text": [
      "\u001b[34mimport\u001b[39;49;00m \u001b[04m\u001b[36margparse\u001b[39;49;00m\r\n",
      "\u001b[34mimport\u001b[39;49;00m \u001b[04m\u001b[36mjson\u001b[39;49;00m\r\n",
      "\u001b[34mimport\u001b[39;49;00m \u001b[04m\u001b[36mos\u001b[39;49;00m\r\n",
      "\u001b[34mimport\u001b[39;49;00m \u001b[04m\u001b[36mpickle\u001b[39;49;00m\r\n",
      "\u001b[34mimport\u001b[39;49;00m \u001b[04m\u001b[36msys\u001b[39;49;00m\r\n",
      "\u001b[34mimport\u001b[39;49;00m \u001b[04m\u001b[36msagemaker_containers\u001b[39;49;00m\r\n",
      "\u001b[34mimport\u001b[39;49;00m \u001b[04m\u001b[36mpandas\u001b[39;49;00m \u001b[34mas\u001b[39;49;00m \u001b[04m\u001b[36mpd\u001b[39;49;00m\r\n",
      "\u001b[34mimport\u001b[39;49;00m \u001b[04m\u001b[36mnumpy\u001b[39;49;00m \u001b[34mas\u001b[39;49;00m \u001b[04m\u001b[36mnp\u001b[39;49;00m\r\n",
      "\u001b[34mimport\u001b[39;49;00m \u001b[04m\u001b[36mtorch\u001b[39;49;00m\r\n",
      "\u001b[34mimport\u001b[39;49;00m \u001b[04m\u001b[36mtorch.nn\u001b[39;49;00m \u001b[34mas\u001b[39;49;00m \u001b[04m\u001b[36mnn\u001b[39;49;00m\r\n",
      "\u001b[34mimport\u001b[39;49;00m \u001b[04m\u001b[36mtorch.optim\u001b[39;49;00m \u001b[34mas\u001b[39;49;00m \u001b[04m\u001b[36moptim\u001b[39;49;00m\r\n",
      "\u001b[34mimport\u001b[39;49;00m \u001b[04m\u001b[36mtorch.utils.data\u001b[39;49;00m\r\n",
      "\r\n",
      "\u001b[34mfrom\u001b[39;49;00m \u001b[04m\u001b[36mmodel\u001b[39;49;00m \u001b[34mimport\u001b[39;49;00m LSTMClassifier\r\n",
      "\r\n",
      "\u001b[34mfrom\u001b[39;49;00m \u001b[04m\u001b[36mutils\u001b[39;49;00m \u001b[34mimport\u001b[39;49;00m review_to_words, convert_and_pad\r\n",
      "\r\n",
      "\u001b[34mdef\u001b[39;49;00m \u001b[32mmodel_fn\u001b[39;49;00m(model_dir):\r\n",
      "    \u001b[33m\"\"\"Load the PyTorch model from the `model_dir` directory.\"\"\"\u001b[39;49;00m\r\n",
      "    \u001b[34mprint\u001b[39;49;00m(\u001b[33m\"\u001b[39;49;00m\u001b[33mLoading model.\u001b[39;49;00m\u001b[33m\"\u001b[39;49;00m)\r\n",
      "\r\n",
      "    \u001b[37m# First, load the parameters used to create the model.\u001b[39;49;00m\r\n",
      "    model_info = {}\r\n",
      "    model_info_path = os.path.join(model_dir, \u001b[33m'\u001b[39;49;00m\u001b[33mmodel_info.pth\u001b[39;49;00m\u001b[33m'\u001b[39;49;00m)\r\n",
      "    \u001b[34mwith\u001b[39;49;00m \u001b[36mopen\u001b[39;49;00m(model_info_path, \u001b[33m'\u001b[39;49;00m\u001b[33mrb\u001b[39;49;00m\u001b[33m'\u001b[39;49;00m) \u001b[34mas\u001b[39;49;00m f:\r\n",
      "        model_info = torch.load(f)\r\n",
      "\r\n",
      "    \u001b[34mprint\u001b[39;49;00m(\u001b[33m\"\u001b[39;49;00m\u001b[33mmodel_info: {}\u001b[39;49;00m\u001b[33m\"\u001b[39;49;00m.format(model_info))\r\n",
      "\r\n",
      "    \u001b[37m# Determine the device and construct the model.\u001b[39;49;00m\r\n",
      "    device = torch.device(\u001b[33m\"\u001b[39;49;00m\u001b[33mcuda\u001b[39;49;00m\u001b[33m\"\u001b[39;49;00m \u001b[34mif\u001b[39;49;00m torch.cuda.is_available() \u001b[34melse\u001b[39;49;00m \u001b[33m\"\u001b[39;49;00m\u001b[33mcpu\u001b[39;49;00m\u001b[33m\"\u001b[39;49;00m)\r\n",
      "    model = LSTMClassifier(model_info[\u001b[33m'\u001b[39;49;00m\u001b[33membedding_dim\u001b[39;49;00m\u001b[33m'\u001b[39;49;00m], model_info[\u001b[33m'\u001b[39;49;00m\u001b[33mhidden_dim\u001b[39;49;00m\u001b[33m'\u001b[39;49;00m], model_info[\u001b[33m'\u001b[39;49;00m\u001b[33mvocab_size\u001b[39;49;00m\u001b[33m'\u001b[39;49;00m])\r\n",
      "\r\n",
      "    \u001b[37m# Load the store model parameters.\u001b[39;49;00m\r\n",
      "    model_path = os.path.join(model_dir, \u001b[33m'\u001b[39;49;00m\u001b[33mmodel.pth\u001b[39;49;00m\u001b[33m'\u001b[39;49;00m)\r\n",
      "    \u001b[34mwith\u001b[39;49;00m \u001b[36mopen\u001b[39;49;00m(model_path, \u001b[33m'\u001b[39;49;00m\u001b[33mrb\u001b[39;49;00m\u001b[33m'\u001b[39;49;00m) \u001b[34mas\u001b[39;49;00m f:\r\n",
      "        model.load_state_dict(torch.load(f))\r\n",
      "\r\n",
      "    \u001b[37m# Load the saved word_dict.\u001b[39;49;00m\r\n",
      "    word_dict_path = os.path.join(model_dir, \u001b[33m'\u001b[39;49;00m\u001b[33mword_dict.pkl\u001b[39;49;00m\u001b[33m'\u001b[39;49;00m)\r\n",
      "    \u001b[34mwith\u001b[39;49;00m \u001b[36mopen\u001b[39;49;00m(word_dict_path, \u001b[33m'\u001b[39;49;00m\u001b[33mrb\u001b[39;49;00m\u001b[33m'\u001b[39;49;00m) \u001b[34mas\u001b[39;49;00m f:\r\n",
      "        model.word_dict = pickle.load(f)\r\n",
      "\r\n",
      "    model.to(device).eval()\r\n",
      "\r\n",
      "    \u001b[34mprint\u001b[39;49;00m(\u001b[33m\"\u001b[39;49;00m\u001b[33mDone loading model.\u001b[39;49;00m\u001b[33m\"\u001b[39;49;00m)\r\n",
      "    \u001b[34mreturn\u001b[39;49;00m model\r\n",
      "\r\n",
      "\u001b[34mdef\u001b[39;49;00m \u001b[32minput_fn\u001b[39;49;00m(serialized_input_data, content_type):\r\n",
      "    \u001b[34mprint\u001b[39;49;00m(\u001b[33m'\u001b[39;49;00m\u001b[33mDeserializing the input data.\u001b[39;49;00m\u001b[33m'\u001b[39;49;00m)\r\n",
      "    \u001b[34mif\u001b[39;49;00m content_type == \u001b[33m'\u001b[39;49;00m\u001b[33mtext/plain\u001b[39;49;00m\u001b[33m'\u001b[39;49;00m:\r\n",
      "        data = serialized_input_data.decode(\u001b[33m'\u001b[39;49;00m\u001b[33mutf-8\u001b[39;49;00m\u001b[33m'\u001b[39;49;00m)\r\n",
      "        \u001b[34mreturn\u001b[39;49;00m data\r\n",
      "    \u001b[34mraise\u001b[39;49;00m \u001b[36mException\u001b[39;49;00m(\u001b[33m'\u001b[39;49;00m\u001b[33mRequested unsupported ContentType in content_type: \u001b[39;49;00m\u001b[33m'\u001b[39;49;00m + content_type)\r\n",
      "\r\n",
      "\u001b[34mdef\u001b[39;49;00m \u001b[32moutput_fn\u001b[39;49;00m(prediction_output, accept):\r\n",
      "    \u001b[34mprint\u001b[39;49;00m(\u001b[33m'\u001b[39;49;00m\u001b[33mSerializing the generated output.\u001b[39;49;00m\u001b[33m'\u001b[39;49;00m)\r\n",
      "    \u001b[34mreturn\u001b[39;49;00m \u001b[36mstr\u001b[39;49;00m(prediction_output)\r\n",
      "\r\n",
      "\u001b[34mdef\u001b[39;49;00m \u001b[32mpredict_fn\u001b[39;49;00m(input_data, model):\r\n",
      "    \u001b[34mprint\u001b[39;49;00m(\u001b[33m'\u001b[39;49;00m\u001b[33mInferring sentiment of input data.\u001b[39;49;00m\u001b[33m'\u001b[39;49;00m)\r\n",
      "\r\n",
      "    device = torch.device(\u001b[33m\"\u001b[39;49;00m\u001b[33mcuda\u001b[39;49;00m\u001b[33m\"\u001b[39;49;00m \u001b[34mif\u001b[39;49;00m torch.cuda.is_available() \u001b[34melse\u001b[39;49;00m \u001b[33m\"\u001b[39;49;00m\u001b[33mcpu\u001b[39;49;00m\u001b[33m\"\u001b[39;49;00m)\r\n",
      "    \r\n",
      "    \u001b[34mif\u001b[39;49;00m model.word_dict \u001b[35mis\u001b[39;49;00m \u001b[36mNone\u001b[39;49;00m:\r\n",
      "        \u001b[34mraise\u001b[39;49;00m \u001b[36mException\u001b[39;49;00m(\u001b[33m'\u001b[39;49;00m\u001b[33mModel has not been loaded properly, no word_dict.\u001b[39;49;00m\u001b[33m'\u001b[39;49;00m)\r\n",
      "    \r\n",
      "    \u001b[37m# TODO: Process input_data so that it is ready to be sent to our model.\u001b[39;49;00m\r\n",
      "    \u001b[37m#       You should produce two variables:\u001b[39;49;00m\r\n",
      "    \u001b[37m#         data_X   - A sequence of length 500 which represents the converted review\u001b[39;49;00m\r\n",
      "    \u001b[37m#         data_len - The length of the review\u001b[39;49;00m\r\n",
      "\r\n",
      "    data_X = \u001b[36mNone\u001b[39;49;00m\r\n",
      "    data_len = \u001b[36mNone\u001b[39;49;00m\r\n",
      "\r\n",
      "    \u001b[37m# Using data_X and data_len we construct an appropriate input tensor. Remember\u001b[39;49;00m\r\n",
      "    \u001b[37m# that our model expects input data of the form 'len, review[500]'.\u001b[39;49;00m\r\n",
      "    data_pack = np.hstack((data_len, data_X))\r\n",
      "    data_pack = data_pack.reshape(\u001b[34m1\u001b[39;49;00m, -\u001b[34m1\u001b[39;49;00m)\r\n",
      "    \r\n",
      "    data = torch.from_numpy(data_pack)\r\n",
      "    data = data.to(device)\r\n",
      "\r\n",
      "    \u001b[37m# Make sure to put the model into evaluation mode\u001b[39;49;00m\r\n",
      "    model.eval()\r\n",
      "\r\n",
      "    \u001b[37m# TODO: Compute the result of applying the model to the input data. The variable `result` should\u001b[39;49;00m\r\n",
      "    \u001b[37m#       be a numpy array which contains a single integer which is either 1 or 0\u001b[39;49;00m\r\n",
      "\r\n",
      "    result = \u001b[36mNone\u001b[39;49;00m\r\n",
      "\r\n",
      "    \u001b[34mreturn\u001b[39;49;00m result\r\n"
     ]
    }
   ],
   "source": [
    "!pygmentize serve/predict.py"
   ]
  },
  {
   "cell_type": "markdown",
   "metadata": {},
   "source": [
    "As mentioned earlier, the `model_fn` method is the same as the one provided in the training code and the `input_fn` and `output_fn` methods are very simple and your task will be to complete the `predict_fn` method. Make sure that you save the completed file as `predict.py` in the `serve` directory.\n",
    "\n",
    "**TODO**: Complete the `predict_fn()` method in the `serve/predict.py` file."
   ]
  },
  {
   "cell_type": "markdown",
   "metadata": {},
   "source": [
    "### Deploying the model\n",
    "\n",
    "Now that the custom inference code has been written, we will create and deploy our model. To begin with, we need to construct a new PyTorchModel object which points to the model artifacts created during training and also points to the inference code that we wish to use. Then we can call the deploy method to launch the deployment container.\n",
    "\n",
    "**NOTE**: The default behaviour for a deployed PyTorch model is to assume that any input passed to the predictor is a `numpy` array. In our case we want to send a string so we need to construct a simple wrapper around the `RealTimePredictor` class to accomodate simple strings. In a more complicated situation you may want to provide a serialization object, for example if you wanted to sent image data."
   ]
  },
  {
   "cell_type": "code",
   "execution_count": 49,
   "metadata": {},
   "outputs": [
    {
     "name": "stdout",
     "output_type": "stream",
     "text": [
      "-----------!"
     ]
    }
   ],
   "source": [
    "from sagemaker.predictor import RealTimePredictor\n",
    "from sagemaker.pytorch import PyTorchModel\n",
    "\n",
    "class StringPredictor(RealTimePredictor):\n",
    "    def __init__(self, endpoint_name, sagemaker_session):\n",
    "        super(StringPredictor, self).__init__(endpoint_name, sagemaker_session, content_type='text/plain')\n",
    "\n",
    "model = PyTorchModel(model_data=estimator.model_data,\n",
    "                     role = role,\n",
    "                     framework_version='0.4.0',\n",
    "                     entry_point='predict.py',\n",
    "                     source_dir='serve',\n",
    "                     predictor_cls=StringPredictor)\n",
    "predictor = model.deploy(initial_instance_count=1, instance_type='ml.m4.xlarge')"
   ]
  },
  {
   "cell_type": "markdown",
   "metadata": {},
   "source": [
    "### Testing the model\n",
    "\n",
    "Now that we have deployed our model with the custom inference code, we should test to see if everything is working. Here we test our model by loading the first `250` positive and negative reviews and send them to the endpoint, then collect the results. The reason for only sending some of the data is that the amount of time it takes for our model to process the input and then perform inference is quite long and so testing the entire data set would be prohibitive."
   ]
  },
  {
   "cell_type": "code",
   "execution_count": 55,
   "metadata": {},
   "outputs": [],
   "source": [
    "import glob\n",
    "\n",
    "def test_reviews(data_dir='../data/aclImdb', stop=250):\n",
    "    \n",
    "    results = []\n",
    "    ground = []\n",
    "    \n",
    "    # We make sure to test both positive and negative reviews    \n",
    "    for sentiment in ['pos', 'neg']:\n",
    "        \n",
    "        path = os.path.join(data_dir, 'test', sentiment, '*.txt')\n",
    "        files = glob.glob(path)\n",
    "        \n",
    "        files_read = 0\n",
    "        \n",
    "        print('Starting ', sentiment, ' files')\n",
    "        \n",
    "        # Iterate through the files and send them to the predictor\n",
    "        for f in files:\n",
    "            with open(f) as review:\n",
    "                # First, we store the ground truth (was the review positive or negative)\n",
    "                if sentiment == 'pos':\n",
    "                    ground.append(1)\n",
    "                else:\n",
    "                    ground.append(0)\n",
    "                # Read in the review and convert to 'utf-8' for transmission via HTTP\n",
    "                review_input = review.read().encode('utf-8')\n",
    "                # Send the review to the predictor and store the results\n",
    "                results.append(float(predictor.predict(review_input)))#deleted int(.) and changed to float(.)\n",
    "                \n",
    "            # Sending reviews to our endpoint one at a time takes a while so we\n",
    "            # only send a small number of reviews\n",
    "            files_read += 1\n",
    "            if files_read == stop:\n",
    "                break\n",
    "            \n",
    "    return ground, results"
   ]
  },
  {
   "cell_type": "code",
   "execution_count": 56,
   "metadata": {},
   "outputs": [
    {
     "name": "stdout",
     "output_type": "stream",
     "text": [
      "Starting  pos  files\n",
      "Starting  neg  files\n"
     ]
    }
   ],
   "source": [
    "ground, results = test_reviews()"
   ]
  },
  {
   "cell_type": "code",
   "execution_count": 57,
   "metadata": {},
   "outputs": [
    {
     "data": {
      "text/plain": [
       "0.848"
      ]
     },
     "execution_count": 57,
     "metadata": {},
     "output_type": "execute_result"
    }
   ],
   "source": [
    "from sklearn.metrics import accuracy_score\n",
    "accuracy_score(ground, results)"
   ]
  },
  {
   "cell_type": "markdown",
   "metadata": {},
   "source": [
    "As an additional test, we can try sending the `test_review` that we looked at earlier."
   ]
  },
  {
   "cell_type": "code",
   "execution_count": 58,
   "metadata": {},
   "outputs": [
    {
     "data": {
      "text/plain": [
       "b'1.0'"
      ]
     },
     "execution_count": 58,
     "metadata": {},
     "output_type": "execute_result"
    }
   ],
   "source": [
    "predictor.predict(test_review)"
   ]
  },
  {
   "cell_type": "markdown",
   "metadata": {},
   "source": [
    "Now that we know our endpoint is working as expected, we can set up the web page that will interact with it. If you don't have time to finish the project now, make sure to skip down to the end of this notebook and shut down your endpoint. You can deploy it again when you come back."
   ]
  },
  {
   "cell_type": "markdown",
   "metadata": {},
   "source": [
    "## Step 7 (again): Use the model for the web app\n",
    "\n",
    "> **TODO:** This entire section and the next contain tasks for you to complete, mostly using the AWS console.\n",
    "\n",
    "So far we have been accessing our model endpoint by constructing a predictor object which uses the endpoint and then just using the predictor object to perform inference. What if we wanted to create a web app which accessed our model? The way things are set up currently makes that not possible since in order to access a SageMaker endpoint the app would first have to authenticate with AWS using an IAM role which included access to SageMaker endpoints. However, there is an easier way! We just need to use some additional AWS services.\n",
    "\n",
    "<img src=\"Web App Diagram.svg\">\n",
    "\n",
    "The diagram above gives an overview of how the various services will work together. On the far right is the model which we trained above and which is deployed using SageMaker. On the far left is our web app that collects a user's movie review, sends it off and expects a positive or negative sentiment in return.\n",
    "\n",
    "In the middle is where some of the magic happens. We will construct a Lambda function, which you can think of as a straightforward Python function that can be executed whenever a specified event occurs. We will give this function permission to send and recieve data from a SageMaker endpoint.\n",
    "\n",
    "Lastly, the method we will use to execute the Lambda function is a new endpoint that we will create using API Gateway. This endpoint will be a url that listens for data to be sent to it. Once it gets some data it will pass that data on to the Lambda function and then return whatever the Lambda function returns. Essentially it will act as an interface that lets our web app communicate with the Lambda function.\n",
    "\n",
    "### Setting up a Lambda function\n",
    "\n",
    "The first thing we are going to do is set up a Lambda function. This Lambda function will be executed whenever our public API has data sent to it. When it is executed it will receive the data, perform any sort of processing that is required, send the data (the review) to the SageMaker endpoint we've created and then return the result.\n",
    "\n",
    "#### Part A: Create an IAM Role for the Lambda function\n",
    "\n",
    "Since we want the Lambda function to call a SageMaker endpoint, we need to make sure that it has permission to do so. To do this, we will construct a role that we can later give the Lambda function.\n",
    "\n",
    "Using the AWS Console, navigate to the **IAM** page and click on **Roles**. Then, click on **Create role**. Make sure that the **AWS service** is the type of trusted entity selected and choose **Lambda** as the service that will use this role, then click **Next: Permissions**.\n",
    "\n",
    "In the search box type `sagemaker` and select the check box next to the **AmazonSageMakerFullAccess** policy. Then, click on **Next: Review**.\n",
    "\n",
    "Lastly, give this role a name. Make sure you use a name that you will remember later on, for example `LambdaSageMakerRole`. Then, click on **Create role**.\n",
    "\n",
    "#### Part B: Create a Lambda function\n",
    "\n",
    "Now it is time to actually create the Lambda function.\n",
    "\n",
    "Using the AWS Console, navigate to the AWS Lambda page and click on **Create a function**. When you get to the next page, make sure that **Author from scratch** is selected. Now, name your Lambda function, using a name that you will remember later on, for example `sentiment_analysis_func`. Make sure that the **Python 3.6** runtime is selected and then choose the role that you created in the previous part. Then, click on **Create Function**.\n",
    "\n",
    "On the next page you will see some information about the Lambda function you've just created. If you scroll down you should see an editor in which you can write the code that will be executed when your Lambda function is triggered. In our example, we will use the code below. \n",
    "\n",
    "```python\n",
    "# We need to use the low-level library to interact with SageMaker since the SageMaker API\n",
    "# is not available natively through Lambda.\n",
    "import boto3\n",
    "\n",
    "def lambda_handler(event, context):\n",
    "\n",
    "    # The SageMaker runtime is what allows us to invoke the endpoint that we've created.\n",
    "    runtime = boto3.Session().client('sagemaker-runtime')\n",
    "\n",
    "    # Now we use the SageMaker runtime to invoke our endpoint, sending the review we were given\n",
    "    response = runtime.invoke_endpoint(EndpointName = '**ENDPOINT NAME HERE**',    # The name of the endpoint we created\n",
    "                                       ContentType = 'text/plain',                 # The data format that is expected\n",
    "                                       Body = event['body'])                       # The actual review\n",
    "\n",
    "    # The response is an HTTP response whose body contains the result of our inference\n",
    "    result = response['Body'].read().decode('utf-8')\n",
    "\n",
    "    return {\n",
    "        'statusCode' : 200,\n",
    "        'headers' : { 'Content-Type' : 'text/plain', 'Access-Control-Allow-Origin' : '*' },\n",
    "        'body' : result\n",
    "    }\n",
    "```\n",
    "\n",
    "Once you have copy and pasted the code above into the Lambda code editor, replace the `**ENDPOINT NAME HERE**` portion with the name of the endpoint that we deployed earlier. You can determine the name of the endpoint using the code cell below."
   ]
  },
  {
   "cell_type": "code",
   "execution_count": 59,
   "metadata": {},
   "outputs": [
    {
     "data": {
      "text/plain": [
       "'sagemaker-pytorch-2020-02-27-03-43-17-332'"
      ]
     },
     "execution_count": 59,
     "metadata": {},
     "output_type": "execute_result"
    }
   ],
   "source": [
    "predictor.endpoint"
   ]
  },
  {
   "cell_type": "markdown",
   "metadata": {},
   "source": [
    "Once you have added the endpoint name to the Lambda function, click on **Save**. Your Lambda function is now up and running. Next we need to create a way for our web app to execute the Lambda function.\n",
    "\n",
    "### Setting up API Gateway\n",
    "\n",
    "Now that our Lambda function is set up, it is time to create a new API using API Gateway that will trigger the Lambda function we have just created.\n",
    "\n",
    "Using AWS Console, navigate to **Amazon API Gateway** and then click on **Get started**.\n",
    "\n",
    "On the next page, make sure that **New API** is selected and give the new api a name, for example, `sentiment_analysis_api`. Then, click on **Create API**.\n",
    "\n",
    "Now we have created an API, however it doesn't currently do anything. What we want it to do is to trigger the Lambda function that we created earlier.\n",
    "\n",
    "Select the **Actions** dropdown menu and click **Create Method**. A new blank method will be created, select its dropdown menu and select **POST**, then click on the check mark beside it.\n",
    "\n",
    "For the integration point, make sure that **Lambda Function** is selected and click on the **Use Lambda Proxy integration**. This option makes sure that the data that is sent to the API is then sent directly to the Lambda function with no processing. It also means that the return value must be a proper response object as it will also not be processed by API Gateway.\n",
    "\n",
    "Type the name of the Lambda function you created earlier into the **Lambda Function** text entry box and then click on **Save**. Click on **OK** in the pop-up box that then appears, giving permission to API Gateway to invoke the Lambda function you created.\n",
    "\n",
    "The last step in creating the API Gateway is to select the **Actions** dropdown and click on **Deploy API**. You will need to create a new Deployment stage and name it anything you like, for example `prod`.\n",
    "\n",
    "You have now successfully set up a public API to access your SageMaker model. Make sure to copy or write down the URL provided to invoke your newly created public API as this will be needed in the next step. This URL can be found at the top of the page, highlighted in blue next to the text **Invoke URL**."
   ]
  },
  {
   "cell_type": "markdown",
   "metadata": {},
   "source": [
    "## Step 4: Deploying our web app\n",
    "\n",
    "Now that we have a publicly available API, we can start using it in a web app. For our purposes, we have provided a simple static html file which can make use of the public api you created earlier.\n",
    "\n",
    "In the `website` folder there should be a file called `index.html`. Download the file to your computer and open that file up in a text editor of your choice. There should be a line which contains **\\*\\*REPLACE WITH PUBLIC API URL\\*\\***. Replace this string with the url that you wrote down in the last step and then save the file.\n",
    "\n",
    "Now, if you open `index.html` on your local computer, your browser will behave as a local web server and you can use the provided site to interact with your SageMaker model.\n",
    "\n",
    "If you'd like to go further, you can host this html file anywhere you'd like, for example using github or hosting a static site on Amazon's S3. Once you have done this you can share the link with anyone you'd like and have them play with it too!\n",
    "\n",
    "> **Important Note** In order for the web app to communicate with the SageMaker endpoint, the endpoint has to actually be deployed and running. This means that you are paying for it. Make sure that the endpoint is running when you want to use the web app but that you shut it down when you don't need it, otherwise you will end up with a surprisingly large AWS bill.\n",
    "\n",
    "**TODO:** Make sure that you include the edited `index.html` file in your project submission."
   ]
  },
  {
   "cell_type": "markdown",
   "metadata": {},
   "source": [
    "Now that your web app is working, trying playing around with it and see how well it works.\n",
    "\n",
    "**Question**: Give an example of a review that you entered into your web app. What was the predicted sentiment of your example review?"
   ]
  },
  {
   "cell_type": "markdown",
   "metadata": {},
   "source": [
    "**Answer:** 'The movie was fantastic. Loved it.' The result was, as expected, 'Positive'. The web app works as expected."
   ]
  },
  {
   "cell_type": "markdown",
   "metadata": {},
   "source": [
    "### Delete the endpoint\n",
    "\n",
    "Remember to always shut down your endpoint if you are no longer using it. You are charged for the length of time that the endpoint is running so if you forget and leave it on you could end up with an unexpectedly large bill."
   ]
  },
  {
   "cell_type": "code",
   "execution_count": 60,
   "metadata": {},
   "outputs": [],
   "source": [
    "predictor.delete_endpoint()"
   ]
  },
  {
   "cell_type": "code",
   "execution_count": null,
   "metadata": {},
   "outputs": [],
   "source": []
  }
 ],
 "metadata": {
  "kernelspec": {
   "display_name": "conda_pytorch_p36",
   "language": "python",
   "name": "conda_pytorch_p36"
  },
  "language_info": {
   "codemirror_mode": {
    "name": "ipython",
    "version": 3
   },
   "file_extension": ".py",
   "mimetype": "text/x-python",
   "name": "python",
   "nbconvert_exporter": "python",
   "pygments_lexer": "ipython3",
   "version": "3.6.5"
  }
 },
 "nbformat": 4,
 "nbformat_minor": 2
}
